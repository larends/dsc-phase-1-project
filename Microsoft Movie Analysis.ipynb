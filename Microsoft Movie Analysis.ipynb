{
 "cells": [
  {
   "cell_type": "markdown",
   "metadata": {},
   "source": [
    "## Final Project Submission\n",
    "\n",
    "Please fill out:\n",
    "* Student name: Lisa Arends\n",
    "* Student pace: full time\n",
    "* Scheduled project review date/time: \n",
    "* Instructor name: Claude Fried\n",
    "* Blog post URL: https://wordpress.com/post/fromteachingtotech928923879.wordpress.com/312\n"
   ]
  },
  {
   "cell_type": "markdown",
   "metadata": {},
   "source": [
    "# What Types of Movies Should Be Made in Order to Maximize Profits?"
   ]
  },
  {
   "cell_type": "markdown",
   "metadata": {
    "ExecuteTime": {
     "end_time": "2021-07-17T08:47:58.171120Z",
     "start_time": "2021-07-17T08:47:58.167616Z"
    }
   },
   "source": [
    "This project centers on using data to make recommendations to Microsoft for their new movie-making venture. In order to make these suggestions, I will examine data about movie profits, expenses and characteristics in order to look for trends and associations. Finally, this will be used to make specific data-driven suggestions for the company."
   ]
  },
  {
   "cell_type": "markdown",
   "metadata": {},
   "source": [
    "## Problem Statement\n",
    "\n",
    "What types of movies should Microsoft Movie Studios make in order to maximize the return on investment?\n"
   ]
  },
  {
   "cell_type": "markdown",
   "metadata": {},
   "source": [
    "## Business Value\n",
    "\n",
    "A significant amount of time and money goes into the production of a movie. These resources are best allocated to the movie genres, crew and markets that are associated with a greater return on investment (ROI) in terms of box-office revenue. By focusing on creating and releasing movies that have a greater chance of being financially successful, Microsoft Movie Studios can maximize profits. \n"
   ]
  },
  {
   "cell_type": "markdown",
   "metadata": {},
   "source": [
    "## Questions to consider\n",
    "- Which movie genres have the highest ROI?\n",
    "- What movie runtimes are associated with high ROI?\n",
    "- Do movies released at a certain time of year have a higher ROI?\n",
    "- What directors and producers have demonstrated profitability?\n",
    "- Do movies that are part of a franchise have a higher gross?\n",
    "- What external markets can increase profits?"
   ]
  },
  {
   "cell_type": "markdown",
   "metadata": {},
   "source": [
    "# What do the data tell us about movie profits?"
   ]
  },
  {
   "cell_type": "markdown",
   "metadata": {},
   "source": [
    "### Data Mining"
   ]
  },
  {
   "cell_type": "code",
   "execution_count": 1,
   "metadata": {
    "ExecuteTime": {
     "end_time": "2021-07-21T12:02:56.453408Z",
     "start_time": "2021-07-21T12:02:55.448147Z"
    }
   },
   "outputs": [],
   "source": [
    "import numpy as np\n",
    "import pandas as pd\n",
    "import requests\n",
    "import matplotlib.pyplot as plt\n",
    "import seaborn as sns\n",
    "import plotly.express as px\n",
    "\n",
    "%matplotlib inline\n"
   ]
  },
  {
   "cell_type": "markdown",
   "metadata": {},
   "source": [
    "Because my focus is on what makes a movie profitable, I will begin by examining data that contains information about the gross profits and the production budgets for movies from 1915 until 2020. "
   ]
  },
  {
   "cell_type": "code",
   "execution_count": 2,
   "metadata": {
    "ExecuteTime": {
     "end_time": "2021-07-21T12:02:56.480241Z",
     "start_time": "2021-07-21T12:02:56.455283Z"
    },
    "scrolled": true
   },
   "outputs": [
    {
     "data": {
      "text/html": [
       "<div>\n",
       "<style scoped>\n",
       "    .dataframe tbody tr th:only-of-type {\n",
       "        vertical-align: middle;\n",
       "    }\n",
       "\n",
       "    .dataframe tbody tr th {\n",
       "        vertical-align: top;\n",
       "    }\n",
       "\n",
       "    .dataframe thead th {\n",
       "        text-align: right;\n",
       "    }\n",
       "</style>\n",
       "<table border=\"1\" class=\"dataframe\">\n",
       "  <thead>\n",
       "    <tr style=\"text-align: right;\">\n",
       "      <th></th>\n",
       "      <th>id</th>\n",
       "      <th>release_date</th>\n",
       "      <th>movie</th>\n",
       "      <th>production_budget</th>\n",
       "      <th>domestic_gross</th>\n",
       "      <th>worldwide_gross</th>\n",
       "    </tr>\n",
       "  </thead>\n",
       "  <tbody>\n",
       "    <tr>\n",
       "      <th>0</th>\n",
       "      <td>1</td>\n",
       "      <td>Dec 18, 2009</td>\n",
       "      <td>Avatar</td>\n",
       "      <td>$425,000,000</td>\n",
       "      <td>$760,507,625</td>\n",
       "      <td>$2,776,345,279</td>\n",
       "    </tr>\n",
       "    <tr>\n",
       "      <th>1</th>\n",
       "      <td>2</td>\n",
       "      <td>May 20, 2011</td>\n",
       "      <td>Pirates of the Caribbean: On Stranger Tides</td>\n",
       "      <td>$410,600,000</td>\n",
       "      <td>$241,063,875</td>\n",
       "      <td>$1,045,663,875</td>\n",
       "    </tr>\n",
       "    <tr>\n",
       "      <th>2</th>\n",
       "      <td>3</td>\n",
       "      <td>Jun 7, 2019</td>\n",
       "      <td>Dark Phoenix</td>\n",
       "      <td>$350,000,000</td>\n",
       "      <td>$42,762,350</td>\n",
       "      <td>$149,762,350</td>\n",
       "    </tr>\n",
       "    <tr>\n",
       "      <th>3</th>\n",
       "      <td>4</td>\n",
       "      <td>May 1, 2015</td>\n",
       "      <td>Avengers: Age of Ultron</td>\n",
       "      <td>$330,600,000</td>\n",
       "      <td>$459,005,868</td>\n",
       "      <td>$1,403,013,963</td>\n",
       "    </tr>\n",
       "    <tr>\n",
       "      <th>4</th>\n",
       "      <td>5</td>\n",
       "      <td>Dec 15, 2017</td>\n",
       "      <td>Star Wars Ep. VIII: The Last Jedi</td>\n",
       "      <td>$317,000,000</td>\n",
       "      <td>$620,181,382</td>\n",
       "      <td>$1,316,721,747</td>\n",
       "    </tr>\n",
       "  </tbody>\n",
       "</table>\n",
       "</div>"
      ],
      "text/plain": [
       "   id  release_date                                        movie  \\\n",
       "0   1  Dec 18, 2009                                       Avatar   \n",
       "1   2  May 20, 2011  Pirates of the Caribbean: On Stranger Tides   \n",
       "2   3   Jun 7, 2019                                 Dark Phoenix   \n",
       "3   4   May 1, 2015                      Avengers: Age of Ultron   \n",
       "4   5  Dec 15, 2017            Star Wars Ep. VIII: The Last Jedi   \n",
       "\n",
       "  production_budget domestic_gross worldwide_gross  \n",
       "0      $425,000,000   $760,507,625  $2,776,345,279  \n",
       "1      $410,600,000   $241,063,875  $1,045,663,875  \n",
       "2      $350,000,000    $42,762,350    $149,762,350  \n",
       "3      $330,600,000   $459,005,868  $1,403,013,963  \n",
       "4      $317,000,000   $620,181,382  $1,316,721,747  "
      ]
     },
     "execution_count": 2,
     "metadata": {},
     "output_type": "execute_result"
    }
   ],
   "source": [
    "# Import and inspect the budget csv\n",
    "budget = pd.read_csv('Data/tn.movie_budgets.csv.gz')\n",
    "budget.head()"
   ]
  },
  {
   "cell_type": "code",
   "execution_count": 3,
   "metadata": {
    "ExecuteTime": {
     "end_time": "2021-07-21T12:02:56.493775Z",
     "start_time": "2021-07-21T12:02:56.484948Z"
    }
   },
   "outputs": [
    {
     "name": "stdout",
     "output_type": "stream",
     "text": [
      "<class 'pandas.core.frame.DataFrame'>\n",
      "RangeIndex: 5782 entries, 0 to 5781\n",
      "Data columns (total 6 columns):\n",
      " #   Column             Non-Null Count  Dtype \n",
      "---  ------             --------------  ----- \n",
      " 0   id                 5782 non-null   int64 \n",
      " 1   release_date       5782 non-null   object\n",
      " 2   movie              5782 non-null   object\n",
      " 3   production_budget  5782 non-null   object\n",
      " 4   domestic_gross     5782 non-null   object\n",
      " 5   worldwide_gross    5782 non-null   object\n",
      "dtypes: int64(1), object(5)\n",
      "memory usage: 271.2+ KB\n"
     ]
    }
   ],
   "source": [
    "budget.info()"
   ]
  },
  {
   "cell_type": "markdown",
   "metadata": {},
   "source": [
    "### Data Cleaning"
   ]
  },
  {
   "cell_type": "markdown",
   "metadata": {},
   "source": [
    "The budget dataframe has 5782 non-null values. The dollar amounts are currently\n",
    "formatted as objects. In order to work with those values, they will be converted\n",
    "into integers."
   ]
  },
  {
   "cell_type": "code",
   "execution_count": 4,
   "metadata": {
    "ExecuteTime": {
     "end_time": "2021-07-21T12:02:56.497645Z",
     "start_time": "2021-07-21T12:02:56.495434Z"
    }
   },
   "outputs": [],
   "source": [
    "#function to be used to change the formatting for the money columns\n",
    "def clean_money(money):\n",
    "    money = money.replace(',','')\n",
    "    return int(money[1:])\n"
   ]
  },
  {
   "cell_type": "code",
   "execution_count": 5,
   "metadata": {
    "ExecuteTime": {
     "end_time": "2021-07-21T12:02:56.513515Z",
     "start_time": "2021-07-21T12:02:56.499289Z"
    }
   },
   "outputs": [],
   "source": [
    "#Apply the function to the appropriate columns\n",
    "budget['production_budget'] = budget['production_budget'].apply(clean_money)\n",
    "budget['domestic_gross'] = budget['domestic_gross'].apply(clean_money)\n",
    "budget['worldwide_gross'] = budget['worldwide_gross'].apply(clean_money)\n"
   ]
  },
  {
   "cell_type": "code",
   "execution_count": 6,
   "metadata": {
    "ExecuteTime": {
     "end_time": "2021-07-21T12:02:56.943159Z",
     "start_time": "2021-07-21T12:02:56.515566Z"
    }
   },
   "outputs": [],
   "source": [
    "#Change the release date to datetime and extract the month and year\n",
    "budget['release_date'] = pd.to_datetime(budget['release_date'])\n",
    "budget['release_year'] = budget['release_date'].dt.year\n",
    "budget['release_month'] = budget['release_date'].dt.month\n"
   ]
  },
  {
   "cell_type": "markdown",
   "metadata": {},
   "source": [
    "### Data Exploration"
   ]
  },
  {
   "cell_type": "code",
   "execution_count": 7,
   "metadata": {
    "ExecuteTime": {
     "end_time": "2021-07-21T12:02:56.967656Z",
     "start_time": "2021-07-21T12:02:56.946415Z"
    }
   },
   "outputs": [
    {
     "data": {
      "text/html": [
       "<div>\n",
       "<style scoped>\n",
       "    .dataframe tbody tr th:only-of-type {\n",
       "        vertical-align: middle;\n",
       "    }\n",
       "\n",
       "    .dataframe tbody tr th {\n",
       "        vertical-align: top;\n",
       "    }\n",
       "\n",
       "    .dataframe thead th {\n",
       "        text-align: right;\n",
       "    }\n",
       "</style>\n",
       "<table border=\"1\" class=\"dataframe\">\n",
       "  <thead>\n",
       "    <tr style=\"text-align: right;\">\n",
       "      <th></th>\n",
       "      <th>id</th>\n",
       "      <th>production_budget</th>\n",
       "      <th>domestic_gross</th>\n",
       "      <th>worldwide_gross</th>\n",
       "      <th>release_year</th>\n",
       "      <th>release_month</th>\n",
       "    </tr>\n",
       "  </thead>\n",
       "  <tbody>\n",
       "    <tr>\n",
       "      <th>count</th>\n",
       "      <td>5782.000000</td>\n",
       "      <td>5.782000e+03</td>\n",
       "      <td>5.782000e+03</td>\n",
       "      <td>5.782000e+03</td>\n",
       "      <td>5782.000000</td>\n",
       "      <td>5782.000000</td>\n",
       "    </tr>\n",
       "    <tr>\n",
       "      <th>mean</th>\n",
       "      <td>50.372363</td>\n",
       "      <td>3.158776e+07</td>\n",
       "      <td>4.187333e+07</td>\n",
       "      <td>9.148746e+07</td>\n",
       "      <td>2003.967139</td>\n",
       "      <td>7.050675</td>\n",
       "    </tr>\n",
       "    <tr>\n",
       "      <th>std</th>\n",
       "      <td>28.821076</td>\n",
       "      <td>4.181208e+07</td>\n",
       "      <td>6.824060e+07</td>\n",
       "      <td>1.747200e+08</td>\n",
       "      <td>12.724386</td>\n",
       "      <td>3.480147</td>\n",
       "    </tr>\n",
       "    <tr>\n",
       "      <th>min</th>\n",
       "      <td>1.000000</td>\n",
       "      <td>1.100000e+03</td>\n",
       "      <td>0.000000e+00</td>\n",
       "      <td>0.000000e+00</td>\n",
       "      <td>1915.000000</td>\n",
       "      <td>1.000000</td>\n",
       "    </tr>\n",
       "    <tr>\n",
       "      <th>25%</th>\n",
       "      <td>25.000000</td>\n",
       "      <td>5.000000e+06</td>\n",
       "      <td>1.429534e+06</td>\n",
       "      <td>4.125415e+06</td>\n",
       "      <td>2000.000000</td>\n",
       "      <td>4.000000</td>\n",
       "    </tr>\n",
       "    <tr>\n",
       "      <th>50%</th>\n",
       "      <td>50.000000</td>\n",
       "      <td>1.700000e+07</td>\n",
       "      <td>1.722594e+07</td>\n",
       "      <td>2.798445e+07</td>\n",
       "      <td>2007.000000</td>\n",
       "      <td>7.000000</td>\n",
       "    </tr>\n",
       "    <tr>\n",
       "      <th>75%</th>\n",
       "      <td>75.000000</td>\n",
       "      <td>4.000000e+07</td>\n",
       "      <td>5.234866e+07</td>\n",
       "      <td>9.764584e+07</td>\n",
       "      <td>2012.000000</td>\n",
       "      <td>10.000000</td>\n",
       "    </tr>\n",
       "    <tr>\n",
       "      <th>max</th>\n",
       "      <td>100.000000</td>\n",
       "      <td>4.250000e+08</td>\n",
       "      <td>9.366622e+08</td>\n",
       "      <td>2.776345e+09</td>\n",
       "      <td>2020.000000</td>\n",
       "      <td>12.000000</td>\n",
       "    </tr>\n",
       "  </tbody>\n",
       "</table>\n",
       "</div>"
      ],
      "text/plain": [
       "                id  production_budget  domestic_gross  worldwide_gross  \\\n",
       "count  5782.000000       5.782000e+03    5.782000e+03     5.782000e+03   \n",
       "mean     50.372363       3.158776e+07    4.187333e+07     9.148746e+07   \n",
       "std      28.821076       4.181208e+07    6.824060e+07     1.747200e+08   \n",
       "min       1.000000       1.100000e+03    0.000000e+00     0.000000e+00   \n",
       "25%      25.000000       5.000000e+06    1.429534e+06     4.125415e+06   \n",
       "50%      50.000000       1.700000e+07    1.722594e+07     2.798445e+07   \n",
       "75%      75.000000       4.000000e+07    5.234866e+07     9.764584e+07   \n",
       "max     100.000000       4.250000e+08    9.366622e+08     2.776345e+09   \n",
       "\n",
       "       release_year  release_month  \n",
       "count   5782.000000    5782.000000  \n",
       "mean    2003.967139       7.050675  \n",
       "std       12.724386       3.480147  \n",
       "min     1915.000000       1.000000  \n",
       "25%     2000.000000       4.000000  \n",
       "50%     2007.000000       7.000000  \n",
       "75%     2012.000000      10.000000  \n",
       "max     2020.000000      12.000000  "
      ]
     },
     "execution_count": 7,
     "metadata": {},
     "output_type": "execute_result"
    }
   ],
   "source": [
    "#Look at the dataframe values\n",
    "budget.describe()"
   ]
  },
  {
   "cell_type": "markdown",
   "metadata": {},
   "source": [
    "There are no movies with a budget of zero dollars, but there are movies with a profit of zero dollars.  Because we are looking for profitable movies, the rows with no profit will be dropped. The release years span from 1915 to 2020, which seems reasonable. "
   ]
  },
  {
   "cell_type": "code",
   "execution_count": 8,
   "metadata": {
    "ExecuteTime": {
     "end_time": "2021-07-21T12:02:56.975364Z",
     "start_time": "2021-07-21T12:02:56.970767Z"
    }
   },
   "outputs": [],
   "source": [
    "#Select only the rows that contain movies that have earned a gross profit.\n",
    "budget = budget[budget['worldwide_gross'] != 0]"
   ]
  },
  {
   "cell_type": "code",
   "execution_count": 9,
   "metadata": {
    "ExecuteTime": {
     "end_time": "2021-07-21T12:02:57.226219Z",
     "start_time": "2021-07-21T12:02:56.976950Z"
    }
   },
   "outputs": [
    {
     "data": {
      "image/png": "[encoded data removed]",
      "text/plain": [
       "<Figure size 576x360 with 1 Axes>"
      ]
     },
     "metadata": {
      "needs_background": "light"
     },
     "output_type": "display_data"
    }
   ],
   "source": [
    "#plot the distribution of worldwide profits\n",
    "fig,ax = plt.subplots(figsize=(8,5))\n",
    "sns.histplot(data=budget['worldwide_gross'], bins=100, color='#5f7d95')\n",
    "ax.set(ylim=(0,400),\n",
    "        xlim=(0,1200000000),\n",
    "        title='Distribution of Gross Worldwide Movie Profits From 1915-2020',\n",
    "        xlabel='Worldwide gross, in billions')\n",
    "sns.despine(fig=fig,top=True, right=True);\n"
   ]
  },
  {
   "cell_type": "markdown",
   "metadata": {},
   "source": [
    "The worldwide gross profits are skewed right, with most movies earning under $200,000,000. It is important to note that these figures have not been adjusted for inflation and since the data includes movies as far back as 1915, this data is somewhat misleading."
   ]
  },
  {
   "cell_type": "code",
   "execution_count": 10,
   "metadata": {
    "ExecuteTime": {
     "end_time": "2021-07-21T12:02:57.382684Z",
     "start_time": "2021-07-21T12:02:57.228128Z"
    },
    "scrolled": false
   },
   "outputs": [
    {
     "data": {
      "image/png": "[encoded data removed]",
      "text/plain": [
       "<Figure size 576x360 with 1 Axes>"
      ]
     },
     "metadata": {
      "needs_background": "light"
     },
     "output_type": "display_data"
    }
   ],
   "source": [
    "#plot the correlation between worldwide profits and production budget\n",
    "fig, ax = plt.subplots(figsize=(8,5))\n",
    "plt.tight_layout()\n",
    "sns.scatterplot(data=budget, x='production_budget', y='worldwide_gross', color='#5f7d95')\n",
    "ax.set(title='Worldwide Gross Profits vs. Production Budget for Movies From 1915-2020',\n",
    "    xlabel='Production budget, in hundred millons',\n",
    "    ylabel='Worldwide gross, in billions')\n",
    "sns.despine(fig=fig,top=True,right=True);"
   ]
  },
  {
   "cell_type": "code",
   "execution_count": 11,
   "metadata": {
    "ExecuteTime": {
     "end_time": "2021-07-21T12:02:57.389085Z",
     "start_time": "2021-07-21T12:02:57.384868Z"
    }
   },
   "outputs": [
    {
     "data": {
      "text/plain": [
       "0.7460130477427726"
      ]
     },
     "execution_count": 11,
     "metadata": {},
     "output_type": "execute_result"
    }
   ],
   "source": [
    "#calculate correlation coefficient for production budget and worldwide gross\n",
    "budget['production_budget'].corr(budget['worldwide_gross'])"
   ]
  },
  {
   "cell_type": "markdown",
   "metadata": {
    "ExecuteTime": {
     "end_time": "2021-07-18T13:12:38.573778Z",
     "start_time": "2021-07-18T13:12:38.564942Z"
    }
   },
   "source": [
    "There is a moderate positive correlation (r = 0.79) between the worldwide gross profits of a movie and its production budget. In general, the movies that earned the most profit also cost the most to make, potentially lowering the net profits. "
   ]
  },
  {
   "cell_type": "markdown",
   "metadata": {},
   "source": [
    "In order to determine which movies are the most profitable, the ROI will be determined. Movie studios are notoriously opaque about the actual costs of a movie's production, but the data in the budget table will at least give an estimation of the ratio between profit and cost. I am only considering the worldwide gross for the ROI, since it includes all box office revenues. "
   ]
  },
  {
   "cell_type": "code",
   "execution_count": 12,
   "metadata": {
    "ExecuteTime": {
     "end_time": "2021-07-21T12:02:57.395140Z",
     "start_time": "2021-07-21T12:02:57.390419Z"
    }
   },
   "outputs": [
    {
     "data": {
      "text/plain": [
       "188.49211384615384"
      ]
     },
     "execution_count": 12,
     "metadata": {},
     "output_type": "execute_result"
    }
   ],
   "source": [
    "#Create an ROI column\n",
    "budget['roi'] = (budget['worldwide_gross']/budget['production_budget'])*100\n",
    "budget['roi'].median()"
   ]
  },
  {
   "cell_type": "markdown",
   "metadata": {
    "ExecuteTime": {
     "end_time": "2021-07-17T08:33:18.707261Z",
     "start_time": "2021-07-17T08:33:18.698949Z"
    }
   },
   "source": [
    "I am going to limit the dataframe to only movies made in on or after 2010, since the factors that made movies profitable before then may no longer be relevant. "
   ]
  },
  {
   "cell_type": "code",
   "execution_count": 13,
   "metadata": {
    "ExecuteTime": {
     "end_time": "2021-07-21T12:02:57.399452Z",
     "start_time": "2021-07-21T12:02:57.396357Z"
    }
   },
   "outputs": [],
   "source": [
    "#Limit to only movies made >= 2010\n",
    "budget = budget[budget['release_year'] >= 2010]"
   ]
  },
  {
   "cell_type": "code",
   "execution_count": 14,
   "metadata": {
    "ExecuteTime": {
     "end_time": "2021-07-21T12:02:58.354673Z",
     "start_time": "2021-07-21T12:02:57.400721Z"
    },
    "scrolled": true
   },
   "outputs": [
    {
     "data": {
      "image/png": "[encoded data removed]",
      "text/plain": [
       "<Figure size 576x360 with 1 Axes>"
      ]
     },
     "metadata": {
      "needs_background": "light"
     },
     "output_type": "display_data"
    }
   ],
   "source": [
    "#plot distribution of ROI for movies made on or after 2010\n",
    "fig,ax = plt.subplots(figsize=(8,5))\n",
    "sns.histplot(data=budget, x='roi', color='#5f7d95')\n",
    "ax.set(xlim=(0,4000),\n",
    "    ylim=(0,200),\n",
    "    title='Distribution of ROI for Movies Made on or After 2010',\n",
    "    xlabel='ROI, in percent')\n",
    "sns.despine(fig=fig,top=True,right=True)\n",
    "ax.axvline(budget['roi'].quantile(q=.8),color='#eedcbe').set_linestyle('--')\n",
    "ax.text(500,130,'Median ROI');\n"
   ]
  },
  {
   "cell_type": "code",
   "execution_count": 15,
   "metadata": {
    "ExecuteTime": {
     "end_time": "2021-07-21T12:02:58.366506Z",
     "start_time": "2021-07-21T12:02:58.356896Z"
    }
   },
   "outputs": [
    {
     "data": {
      "text/html": [
       "<div>\n",
       "<style scoped>\n",
       "    .dataframe tbody tr th:only-of-type {\n",
       "        vertical-align: middle;\n",
       "    }\n",
       "\n",
       "    .dataframe tbody tr th {\n",
       "        vertical-align: top;\n",
       "    }\n",
       "\n",
       "    .dataframe thead th {\n",
       "        text-align: right;\n",
       "    }\n",
       "</style>\n",
       "<table border=\"1\" class=\"dataframe\">\n",
       "  <thead>\n",
       "    <tr style=\"text-align: right;\">\n",
       "      <th></th>\n",
       "      <th>id</th>\n",
       "      <th>release_date</th>\n",
       "      <th>movie</th>\n",
       "      <th>production_budget</th>\n",
       "      <th>domestic_gross</th>\n",
       "      <th>worldwide_gross</th>\n",
       "      <th>release_year</th>\n",
       "      <th>release_month</th>\n",
       "      <th>roi</th>\n",
       "    </tr>\n",
       "  </thead>\n",
       "  <tbody>\n",
       "    <tr>\n",
       "      <th>5679</th>\n",
       "      <td>80</td>\n",
       "      <td>2015-07-10</td>\n",
       "      <td>The Gallows</td>\n",
       "      <td>100000</td>\n",
       "      <td>22764410</td>\n",
       "      <td>41656474</td>\n",
       "      <td>2015</td>\n",
       "      <td>7</td>\n",
       "      <td>41656.474000</td>\n",
       "    </tr>\n",
       "    <tr>\n",
       "      <th>5211</th>\n",
       "      <td>12</td>\n",
       "      <td>2012-01-06</td>\n",
       "      <td>The Devil Inside</td>\n",
       "      <td>1000000</td>\n",
       "      <td>53262945</td>\n",
       "      <td>101759490</td>\n",
       "      <td>2012</td>\n",
       "      <td>1</td>\n",
       "      <td>10175.949000</td>\n",
       "    </tr>\n",
       "    <tr>\n",
       "      <th>5062</th>\n",
       "      <td>63</td>\n",
       "      <td>2011-04-01</td>\n",
       "      <td>Insidious</td>\n",
       "      <td>1500000</td>\n",
       "      <td>54009150</td>\n",
       "      <td>99870886</td>\n",
       "      <td>2011</td>\n",
       "      <td>4</td>\n",
       "      <td>6658.059067</td>\n",
       "    </tr>\n",
       "    <tr>\n",
       "      <th>5213</th>\n",
       "      <td>14</td>\n",
       "      <td>2015-04-17</td>\n",
       "      <td>Unfriended</td>\n",
       "      <td>1000000</td>\n",
       "      <td>32789645</td>\n",
       "      <td>64364198</td>\n",
       "      <td>2015</td>\n",
       "      <td>4</td>\n",
       "      <td>6436.419800</td>\n",
       "    </tr>\n",
       "    <tr>\n",
       "      <th>4664</th>\n",
       "      <td>65</td>\n",
       "      <td>2010-10-20</td>\n",
       "      <td>Paranormal Activity 2</td>\n",
       "      <td>3000000</td>\n",
       "      <td>84752907</td>\n",
       "      <td>177512032</td>\n",
       "      <td>2010</td>\n",
       "      <td>10</td>\n",
       "      <td>5917.067733</td>\n",
       "    </tr>\n",
       "  </tbody>\n",
       "</table>\n",
       "</div>"
      ],
      "text/plain": [
       "      id release_date                  movie  production_budget  \\\n",
       "5679  80   2015-07-10            The Gallows             100000   \n",
       "5211  12   2012-01-06       The Devil Inside            1000000   \n",
       "5062  63   2011-04-01              Insidious            1500000   \n",
       "5213  14   2015-04-17             Unfriended            1000000   \n",
       "4664  65   2010-10-20  Paranormal Activity 2            3000000   \n",
       "\n",
       "      domestic_gross  worldwide_gross  release_year  release_month  \\\n",
       "5679        22764410         41656474          2015              7   \n",
       "5211        53262945        101759490          2012              1   \n",
       "5062        54009150         99870886          2011              4   \n",
       "5213        32789645         64364198          2015              4   \n",
       "4664        84752907        177512032          2010             10   \n",
       "\n",
       "               roi  \n",
       "5679  41656.474000  \n",
       "5211  10175.949000  \n",
       "5062   6658.059067  \n",
       "5213   6436.419800  \n",
       "4664   5917.067733  "
      ]
     },
     "execution_count": 15,
     "metadata": {},
     "output_type": "execute_result"
    }
   ],
   "source": [
    "#Inspect the top movies by ROI\n",
    "budget.sort_values('roi', ascending=False).head()"
   ]
  },
  {
   "cell_type": "markdown",
   "metadata": {},
   "source": [
    "Just as with worldwide gross, the ROI data is also skewed right, with a median value of around 2 (200% ROI) and a maximum of an impressive 417 (41,700% ROI)."
   ]
  },
  {
   "cell_type": "code",
   "execution_count": 16,
   "metadata": {
    "ExecuteTime": {
     "end_time": "2021-07-21T12:02:58.373342Z",
     "start_time": "2021-07-21T12:02:58.368139Z"
    }
   },
   "outputs": [
    {
     "data": {
      "text/plain": [
       "count     1922.000000\n",
       "mean       366.476915\n",
       "std       1115.385695\n",
       "min          0.002600\n",
       "25%         66.858717\n",
       "50%        202.257614\n",
       "75%        396.318542\n",
       "max      41656.474000\n",
       "Name: roi, dtype: float64"
      ]
     },
     "execution_count": 16,
     "metadata": {},
     "output_type": "execute_result"
    }
   ],
   "source": [
    "#Examine the ROI data\n",
    "budget['roi'].describe()"
   ]
  },
  {
   "cell_type": "markdown",
   "metadata": {},
   "source": [
    "There is significant variability in the ROI data, with a mean of 3.7 and a standard deviation of 11.2. The top half of performers have an ROI of 2 or higher, indicating that they roughly double their investment. "
   ]
  },
  {
   "cell_type": "markdown",
   "metadata": {},
   "source": [
    "# What are the characteristics of the movies with a high ROI?"
   ]
  },
  {
   "cell_type": "markdown",
   "metadata": {},
   "source": [
    "Now we know which movies have been the most profitable in the last ten years, but we don't have much information about them. In order to rectify this, I will be joining this dataframe with one that contains the genre and the runtimes for the movies. "
   ]
  },
  {
   "cell_type": "markdown",
   "metadata": {},
   "source": [
    "## What movie genres have the highest ROI?"
   ]
  },
  {
   "cell_type": "markdown",
   "metadata": {},
   "source": [
    "### Data Mining"
   ]
  },
  {
   "cell_type": "code",
   "execution_count": 17,
   "metadata": {
    "ExecuteTime": {
     "end_time": "2021-07-21T12:02:58.637764Z",
     "start_time": "2021-07-21T12:02:58.374648Z"
    }
   },
   "outputs": [
    {
     "data": {
      "text/html": [
       "<div>\n",
       "<style scoped>\n",
       "    .dataframe tbody tr th:only-of-type {\n",
       "        vertical-align: middle;\n",
       "    }\n",
       "\n",
       "    .dataframe tbody tr th {\n",
       "        vertical-align: top;\n",
       "    }\n",
       "\n",
       "    .dataframe thead th {\n",
       "        text-align: right;\n",
       "    }\n",
       "</style>\n",
       "<table border=\"1\" class=\"dataframe\">\n",
       "  <thead>\n",
       "    <tr style=\"text-align: right;\">\n",
       "      <th></th>\n",
       "      <th>tconst</th>\n",
       "      <th>primary_title</th>\n",
       "      <th>original_title</th>\n",
       "      <th>start_year</th>\n",
       "      <th>runtime_minutes</th>\n",
       "      <th>genres</th>\n",
       "    </tr>\n",
       "  </thead>\n",
       "  <tbody>\n",
       "    <tr>\n",
       "      <th>0</th>\n",
       "      <td>tt0063540</td>\n",
       "      <td>Sunghursh</td>\n",
       "      <td>Sunghursh</td>\n",
       "      <td>2013</td>\n",
       "      <td>175.0</td>\n",
       "      <td>Action,Crime,Drama</td>\n",
       "    </tr>\n",
       "    <tr>\n",
       "      <th>1</th>\n",
       "      <td>tt0066787</td>\n",
       "      <td>One Day Before the Rainy Season</td>\n",
       "      <td>Ashad Ka Ek Din</td>\n",
       "      <td>2019</td>\n",
       "      <td>114.0</td>\n",
       "      <td>Biography,Drama</td>\n",
       "    </tr>\n",
       "    <tr>\n",
       "      <th>2</th>\n",
       "      <td>tt0069049</td>\n",
       "      <td>The Other Side of the Wind</td>\n",
       "      <td>The Other Side of the Wind</td>\n",
       "      <td>2018</td>\n",
       "      <td>122.0</td>\n",
       "      <td>Drama</td>\n",
       "    </tr>\n",
       "    <tr>\n",
       "      <th>3</th>\n",
       "      <td>tt0069204</td>\n",
       "      <td>Sabse Bada Sukh</td>\n",
       "      <td>Sabse Bada Sukh</td>\n",
       "      <td>2018</td>\n",
       "      <td>NaN</td>\n",
       "      <td>Comedy,Drama</td>\n",
       "    </tr>\n",
       "    <tr>\n",
       "      <th>4</th>\n",
       "      <td>tt0100275</td>\n",
       "      <td>The Wandering Soap Opera</td>\n",
       "      <td>La Telenovela Errante</td>\n",
       "      <td>2017</td>\n",
       "      <td>80.0</td>\n",
       "      <td>Comedy,Drama,Fantasy</td>\n",
       "    </tr>\n",
       "  </tbody>\n",
       "</table>\n",
       "</div>"
      ],
      "text/plain": [
       "      tconst                    primary_title              original_title  \\\n",
       "0  tt0063540                        Sunghursh                   Sunghursh   \n",
       "1  tt0066787  One Day Before the Rainy Season             Ashad Ka Ek Din   \n",
       "2  tt0069049       The Other Side of the Wind  The Other Side of the Wind   \n",
       "3  tt0069204                  Sabse Bada Sukh             Sabse Bada Sukh   \n",
       "4  tt0100275         The Wandering Soap Opera       La Telenovela Errante   \n",
       "\n",
       "   start_year  runtime_minutes                genres  \n",
       "0        2013            175.0    Action,Crime,Drama  \n",
       "1        2019            114.0       Biography,Drama  \n",
       "2        2018            122.0                 Drama  \n",
       "3        2018              NaN          Comedy,Drama  \n",
       "4        2017             80.0  Comedy,Drama,Fantasy  "
      ]
     },
     "execution_count": 17,
     "metadata": {},
     "output_type": "execute_result"
    }
   ],
   "source": [
    "#Import and inspect the csv with movie genres and runtimes\n",
    "imdb_title = pd.read_csv('Data/imdb.title.basics.csv')\n",
    "imdb_title.head()"
   ]
  },
  {
   "cell_type": "code",
   "execution_count": 18,
   "metadata": {
    "ExecuteTime": {
     "end_time": "2021-07-21T12:02:58.660198Z",
     "start_time": "2021-07-21T12:02:58.639903Z"
    },
    "scrolled": true
   },
   "outputs": [
    {
     "data": {
      "text/html": [
       "<div>\n",
       "<style scoped>\n",
       "    .dataframe tbody tr th:only-of-type {\n",
       "        vertical-align: middle;\n",
       "    }\n",
       "\n",
       "    .dataframe tbody tr th {\n",
       "        vertical-align: top;\n",
       "    }\n",
       "\n",
       "    .dataframe thead th {\n",
       "        text-align: right;\n",
       "    }\n",
       "</style>\n",
       "<table border=\"1\" class=\"dataframe\">\n",
       "  <thead>\n",
       "    <tr style=\"text-align: right;\">\n",
       "      <th></th>\n",
       "      <th>start_year</th>\n",
       "      <th>runtime_minutes</th>\n",
       "    </tr>\n",
       "  </thead>\n",
       "  <tbody>\n",
       "    <tr>\n",
       "      <th>count</th>\n",
       "      <td>146144.000000</td>\n",
       "      <td>114405.000000</td>\n",
       "    </tr>\n",
       "    <tr>\n",
       "      <th>mean</th>\n",
       "      <td>2014.621798</td>\n",
       "      <td>86.187247</td>\n",
       "    </tr>\n",
       "    <tr>\n",
       "      <th>std</th>\n",
       "      <td>2.733583</td>\n",
       "      <td>166.360590</td>\n",
       "    </tr>\n",
       "    <tr>\n",
       "      <th>min</th>\n",
       "      <td>2010.000000</td>\n",
       "      <td>1.000000</td>\n",
       "    </tr>\n",
       "    <tr>\n",
       "      <th>25%</th>\n",
       "      <td>2012.000000</td>\n",
       "      <td>70.000000</td>\n",
       "    </tr>\n",
       "    <tr>\n",
       "      <th>50%</th>\n",
       "      <td>2015.000000</td>\n",
       "      <td>87.000000</td>\n",
       "    </tr>\n",
       "    <tr>\n",
       "      <th>75%</th>\n",
       "      <td>2017.000000</td>\n",
       "      <td>99.000000</td>\n",
       "    </tr>\n",
       "    <tr>\n",
       "      <th>max</th>\n",
       "      <td>2115.000000</td>\n",
       "      <td>51420.000000</td>\n",
       "    </tr>\n",
       "  </tbody>\n",
       "</table>\n",
       "</div>"
      ],
      "text/plain": [
       "          start_year  runtime_minutes\n",
       "count  146144.000000    114405.000000\n",
       "mean     2014.621798        86.187247\n",
       "std         2.733583       166.360590\n",
       "min      2010.000000         1.000000\n",
       "25%      2012.000000        70.000000\n",
       "50%      2015.000000        87.000000\n",
       "75%      2017.000000        99.000000\n",
       "max      2115.000000     51420.000000"
      ]
     },
     "execution_count": 18,
     "metadata": {},
     "output_type": "execute_result"
    }
   ],
   "source": [
    "imdb_title.describe()"
   ]
  },
  {
   "cell_type": "markdown",
   "metadata": {},
   "source": [
    "### Data Cleaning"
   ]
  },
  {
   "cell_type": "markdown",
   "metadata": {},
   "source": [
    "The years range from 2010 to 2115, the later of which is obviously an error."
   ]
  },
  {
   "cell_type": "code",
   "execution_count": 19,
   "metadata": {
    "ExecuteTime": {
     "end_time": "2021-07-21T12:02:58.690850Z",
     "start_time": "2021-07-21T12:02:58.662148Z"
    }
   },
   "outputs": [
    {
     "data": {
      "text/plain": [
       "136071"
      ]
     },
     "execution_count": 19,
     "metadata": {},
     "output_type": "execute_result"
    }
   ],
   "source": [
    "#This dataframe contains duplicate titles. These need to be addressed before merging.\n",
    "imdb_title['primary_title'].nunique()"
   ]
  },
  {
   "cell_type": "code",
   "execution_count": 20,
   "metadata": {
    "ExecuteTime": {
     "end_time": "2021-07-21T12:02:58.719132Z",
     "start_time": "2021-07-21T12:02:58.693044Z"
    },
    "scrolled": true
   },
   "outputs": [
    {
     "name": "stdout",
     "output_type": "stream",
     "text": [
      "<class 'pandas.core.frame.DataFrame'>\n",
      "RangeIndex: 146144 entries, 0 to 146143\n",
      "Data columns (total 6 columns):\n",
      " #   Column           Non-Null Count   Dtype  \n",
      "---  ------           --------------   -----  \n",
      " 0   tconst           146144 non-null  object \n",
      " 1   primary_title    146144 non-null  object \n",
      " 2   original_title   146123 non-null  object \n",
      " 3   start_year       146144 non-null  int64  \n",
      " 4   runtime_minutes  114405 non-null  float64\n",
      " 5   genres           140736 non-null  object \n",
      "dtypes: float64(1), int64(1), object(4)\n",
      "memory usage: 6.7+ MB\n"
     ]
    }
   ],
   "source": [
    "imdb_title.info()"
   ]
  },
  {
   "cell_type": "code",
   "execution_count": 21,
   "metadata": {
    "ExecuteTime": {
     "end_time": "2021-07-21T12:02:58.763505Z",
     "start_time": "2021-07-21T12:02:58.720506Z"
    }
   },
   "outputs": [
    {
     "data": {
      "text/html": [
       "<div>\n",
       "<style scoped>\n",
       "    .dataframe tbody tr th:only-of-type {\n",
       "        vertical-align: middle;\n",
       "    }\n",
       "\n",
       "    .dataframe tbody tr th {\n",
       "        vertical-align: top;\n",
       "    }\n",
       "\n",
       "    .dataframe thead th {\n",
       "        text-align: right;\n",
       "    }\n",
       "</style>\n",
       "<table border=\"1\" class=\"dataframe\">\n",
       "  <thead>\n",
       "    <tr style=\"text-align: right;\">\n",
       "      <th></th>\n",
       "      <th>tconst</th>\n",
       "      <th>primary_title</th>\n",
       "      <th>original_title</th>\n",
       "      <th>start_year</th>\n",
       "      <th>runtime_minutes</th>\n",
       "      <th>genres</th>\n",
       "    </tr>\n",
       "  </thead>\n",
       "  <tbody>\n",
       "    <tr>\n",
       "      <th>99621</th>\n",
       "      <td>tt5820812</td>\n",
       "      <td>The Rehearsal</td>\n",
       "      <td>The Rehearsal</td>\n",
       "      <td>2016</td>\n",
       "      <td>102.0</td>\n",
       "      <td>Drama</td>\n",
       "    </tr>\n",
       "    <tr>\n",
       "      <th>146135</th>\n",
       "      <td>tt9916170</td>\n",
       "      <td>The Rehearsal</td>\n",
       "      <td>O Ensaio</td>\n",
       "      <td>2019</td>\n",
       "      <td>51.0</td>\n",
       "      <td>Drama</td>\n",
       "    </tr>\n",
       "  </tbody>\n",
       "</table>\n",
       "</div>"
      ],
      "text/plain": [
       "           tconst  primary_title original_title  start_year  runtime_minutes  \\\n",
       "99621   tt5820812  The Rehearsal  The Rehearsal        2016            102.0   \n",
       "146135  tt9916170  The Rehearsal       O Ensaio        2019             51.0   \n",
       "\n",
       "       genres  \n",
       "99621   Drama  \n",
       "146135  Drama  "
      ]
     },
     "execution_count": 21,
     "metadata": {},
     "output_type": "execute_result"
    }
   ],
   "source": [
    "#Inspect the duplicates.\n",
    "imdb_title[imdb_title.duplicated('primary_title')]\n",
    "imdb_title[imdb_title['primary_title'] == 'The Rehearsal']\n"
   ]
  },
  {
   "cell_type": "markdown",
   "metadata": {},
   "source": [
    "Some of the duplicates appear to be actual copies, while others refer to different movies with the same titles. In order to limit the number of movie titles to consider, I am going to restrict the dataframe to only movies made on or before 2020 (the latest in the top_20 dataframe) as well as movies that do not have null values."
   ]
  },
  {
   "cell_type": "code",
   "execution_count": 22,
   "metadata": {
    "ExecuteTime": {
     "end_time": "2021-07-21T12:02:58.812360Z",
     "start_time": "2021-07-21T12:02:58.770551Z"
    }
   },
   "outputs": [],
   "source": [
    "#Drop null values and limit to movies released <= 2020\n",
    "imdb_title = imdb_title[imdb_title['start_year'] <= 2020]\n",
    "imdb_title = imdb_title.dropna(axis = 0)"
   ]
  },
  {
   "cell_type": "code",
   "execution_count": 23,
   "metadata": {
    "ExecuteTime": {
     "end_time": "2021-07-21T12:02:58.853752Z",
     "start_time": "2021-07-21T12:02:58.816724Z"
    }
   },
   "outputs": [
    {
     "data": {
      "text/plain": [
       "105471"
      ]
     },
     "execution_count": 23,
     "metadata": {},
     "output_type": "execute_result"
    }
   ],
   "source": [
    "#Check for duplicate titles\n",
    "imdb_title['primary_title'].nunique()"
   ]
  },
  {
   "cell_type": "markdown",
   "metadata": {},
   "source": [
    "There are still a significant number of duplicate titles. To reduce these further, I will do an inner merge with the budget dataframe so that I only need to address the titles that are contained in that dataset."
   ]
  },
  {
   "cell_type": "code",
   "execution_count": 24,
   "metadata": {
    "ExecuteTime": {
     "end_time": "2021-07-21T12:02:58.899172Z",
     "start_time": "2021-07-21T12:02:58.855379Z"
    }
   },
   "outputs": [],
   "source": [
    "#Merge the two dataframes on their respective titles.\n",
    "movies = pd.merge(budget, imdb_title, how = 'inner', left_on = 'movie', right_on = 'primary_title')\n"
   ]
  },
  {
   "cell_type": "markdown",
   "metadata": {},
   "source": [
    "Since the left dataframe had fewer rows than the resulting join, we know that there are still duplicated titles. Some of these will be due to two or more different movies that share a title. Because we want the movies based on ROI, I will drop the columns where the release year on the right does not match the start year on the left."
   ]
  },
  {
   "cell_type": "code",
   "execution_count": 25,
   "metadata": {
    "ExecuteTime": {
     "end_time": "2021-07-21T12:02:58.912117Z",
     "start_time": "2021-07-21T12:02:58.900735Z"
    },
    "scrolled": true
   },
   "outputs": [
    {
     "name": "stdout",
     "output_type": "stream",
     "text": [
      "<class 'pandas.core.frame.DataFrame'>\n",
      "Int64Index: 1407 entries, 0 to 2118\n",
      "Data columns (total 15 columns):\n",
      " #   Column             Non-Null Count  Dtype         \n",
      "---  ------             --------------  -----         \n",
      " 0   id                 1407 non-null   int64         \n",
      " 1   release_date       1407 non-null   datetime64[ns]\n",
      " 2   movie              1407 non-null   object        \n",
      " 3   production_budget  1407 non-null   int64         \n",
      " 4   domestic_gross     1407 non-null   int64         \n",
      " 5   worldwide_gross    1407 non-null   int64         \n",
      " 6   release_year       1407 non-null   int64         \n",
      " 7   release_month      1407 non-null   int64         \n",
      " 8   roi                1407 non-null   float64       \n",
      " 9   tconst             1407 non-null   object        \n",
      " 10  primary_title      1407 non-null   object        \n",
      " 11  original_title     1407 non-null   object        \n",
      " 12  start_year         1407 non-null   int64         \n",
      " 13  runtime_minutes    1407 non-null   float64       \n",
      " 14  genres             1407 non-null   object        \n",
      "dtypes: datetime64[ns](1), float64(2), int64(7), object(5)\n",
      "memory usage: 175.9+ KB\n"
     ]
    }
   ],
   "source": [
    "#Only keep the rows where the release dates match\n",
    "movies = movies.loc[movies['release_year'] == movies['start_year']]\n",
    "movies.info()"
   ]
  },
  {
   "cell_type": "code",
   "execution_count": 26,
   "metadata": {
    "ExecuteTime": {
     "end_time": "2021-07-21T12:02:58.917924Z",
     "start_time": "2021-07-21T12:02:58.913791Z"
    }
   },
   "outputs": [
    {
     "data": {
      "text/plain": [
       "1362"
      ]
     },
     "execution_count": 26,
     "metadata": {},
     "output_type": "execute_result"
    }
   ],
   "source": [
    "#check for duplicated titles\n",
    "movies['primary_title'].nunique()"
   ]
  },
  {
   "cell_type": "markdown",
   "metadata": {},
   "source": [
    "We are left with data on 1407 movies with 45 duplicated titles."
   ]
  },
  {
   "cell_type": "code",
   "execution_count": 27,
   "metadata": {
    "ExecuteTime": {
     "end_time": "2021-07-21T12:02:58.932110Z",
     "start_time": "2021-07-21T12:02:58.919419Z"
    }
   },
   "outputs": [
    {
     "data": {
      "text/html": [
       "<div>\n",
       "<style scoped>\n",
       "    .dataframe tbody tr th:only-of-type {\n",
       "        vertical-align: middle;\n",
       "    }\n",
       "\n",
       "    .dataframe tbody tr th {\n",
       "        vertical-align: top;\n",
       "    }\n",
       "\n",
       "    .dataframe thead th {\n",
       "        text-align: right;\n",
       "    }\n",
       "</style>\n",
       "<table border=\"1\" class=\"dataframe\">\n",
       "  <thead>\n",
       "    <tr style=\"text-align: right;\">\n",
       "      <th></th>\n",
       "      <th>id</th>\n",
       "      <th>release_date</th>\n",
       "      <th>movie</th>\n",
       "      <th>production_budget</th>\n",
       "      <th>domestic_gross</th>\n",
       "      <th>worldwide_gross</th>\n",
       "      <th>release_year</th>\n",
       "      <th>release_month</th>\n",
       "      <th>roi</th>\n",
       "      <th>tconst</th>\n",
       "      <th>primary_title</th>\n",
       "      <th>original_title</th>\n",
       "      <th>start_year</th>\n",
       "      <th>runtime_minutes</th>\n",
       "      <th>genres</th>\n",
       "    </tr>\n",
       "  </thead>\n",
       "  <tbody>\n",
       "    <tr>\n",
       "      <th>32</th>\n",
       "      <td>9</td>\n",
       "      <td>2018-11-21</td>\n",
       "      <td>Robin Hood</td>\n",
       "      <td>99000000</td>\n",
       "      <td>30824628</td>\n",
       "      <td>84747441</td>\n",
       "      <td>2018</td>\n",
       "      <td>11</td>\n",
       "      <td>85.603476</td>\n",
       "      <td>tt4532826</td>\n",
       "      <td>Robin Hood</td>\n",
       "      <td>Robin Hood</td>\n",
       "      <td>2018</td>\n",
       "      <td>116.0</td>\n",
       "      <td>Action,Adventure,Thriller</td>\n",
       "    </tr>\n",
       "    <tr>\n",
       "      <th>42</th>\n",
       "      <td>51</td>\n",
       "      <td>2010-03-05</td>\n",
       "      <td>Alice in Wonderland</td>\n",
       "      <td>200000000</td>\n",
       "      <td>334191110</td>\n",
       "      <td>1025491110</td>\n",
       "      <td>2010</td>\n",
       "      <td>3</td>\n",
       "      <td>512.745555</td>\n",
       "      <td>tt2049386</td>\n",
       "      <td>Alice in Wonderland</td>\n",
       "      <td>Alice in Wonderland</td>\n",
       "      <td>2010</td>\n",
       "      <td>99.0</td>\n",
       "      <td>Fantasy,Musical</td>\n",
       "    </tr>\n",
       "    <tr>\n",
       "      <th>87</th>\n",
       "      <td>2</td>\n",
       "      <td>2017-11-22</td>\n",
       "      <td>Coco</td>\n",
       "      <td>175000000</td>\n",
       "      <td>209726015</td>\n",
       "      <td>798008101</td>\n",
       "      <td>2017</td>\n",
       "      <td>11</td>\n",
       "      <td>456.004629</td>\n",
       "      <td>tt7002100</td>\n",
       "      <td>Coco</td>\n",
       "      <td>Coco</td>\n",
       "      <td>2017</td>\n",
       "      <td>98.0</td>\n",
       "      <td>Horror</td>\n",
       "    </tr>\n",
       "    <tr>\n",
       "      <th>184</th>\n",
       "      <td>44</td>\n",
       "      <td>2015-03-27</td>\n",
       "      <td>Home</td>\n",
       "      <td>130000000</td>\n",
       "      <td>177397510</td>\n",
       "      <td>385997896</td>\n",
       "      <td>2015</td>\n",
       "      <td>3</td>\n",
       "      <td>296.921458</td>\n",
       "      <td>tt5121236</td>\n",
       "      <td>Home</td>\n",
       "      <td>Home</td>\n",
       "      <td>2015</td>\n",
       "      <td>15.0</td>\n",
       "      <td>Documentary</td>\n",
       "    </tr>\n",
       "    <tr>\n",
       "      <th>186</th>\n",
       "      <td>44</td>\n",
       "      <td>2015-03-27</td>\n",
       "      <td>Home</td>\n",
       "      <td>130000000</td>\n",
       "      <td>177397510</td>\n",
       "      <td>385997896</td>\n",
       "      <td>2015</td>\n",
       "      <td>3</td>\n",
       "      <td>296.921458</td>\n",
       "      <td>tt5775862</td>\n",
       "      <td>Home</td>\n",
       "      <td>Innocent</td>\n",
       "      <td>2015</td>\n",
       "      <td>4.0</td>\n",
       "      <td>Drama</td>\n",
       "    </tr>\n",
       "  </tbody>\n",
       "</table>\n",
       "</div>"
      ],
      "text/plain": [
       "     id release_date                movie  production_budget  domestic_gross  \\\n",
       "32    9   2018-11-21           Robin Hood           99000000        30824628   \n",
       "42   51   2010-03-05  Alice in Wonderland          200000000       334191110   \n",
       "87    2   2017-11-22                 Coco          175000000       209726015   \n",
       "184  44   2015-03-27                 Home          130000000       177397510   \n",
       "186  44   2015-03-27                 Home          130000000       177397510   \n",
       "\n",
       "     worldwide_gross  release_year  release_month         roi     tconst  \\\n",
       "32          84747441          2018             11   85.603476  tt4532826   \n",
       "42        1025491110          2010              3  512.745555  tt2049386   \n",
       "87         798008101          2017             11  456.004629  tt7002100   \n",
       "184        385997896          2015              3  296.921458  tt5121236   \n",
       "186        385997896          2015              3  296.921458  tt5775862   \n",
       "\n",
       "           primary_title       original_title  start_year  runtime_minutes  \\\n",
       "32            Robin Hood           Robin Hood        2018            116.0   \n",
       "42   Alice in Wonderland  Alice in Wonderland        2010             99.0   \n",
       "87                  Coco                 Coco        2017             98.0   \n",
       "184                 Home                 Home        2015             15.0   \n",
       "186                 Home             Innocent        2015              4.0   \n",
       "\n",
       "                        genres  \n",
       "32   Action,Adventure,Thriller  \n",
       "42             Fantasy,Musical  \n",
       "87                      Horror  \n",
       "184                Documentary  \n",
       "186                      Drama  "
      ]
     },
     "execution_count": 27,
     "metadata": {},
     "output_type": "execute_result"
    }
   ],
   "source": [
    "#Inspect the duplicates\n",
    "movies[movies.duplicated('primary_title')].iloc[:5]"
   ]
  },
  {
   "cell_type": "code",
   "execution_count": 28,
   "metadata": {
    "ExecuteTime": {
     "end_time": "2021-07-21T12:02:58.938188Z",
     "start_time": "2021-07-21T12:02:58.933458Z"
    }
   },
   "outputs": [
    {
     "data": {
      "text/plain": [
       "id                                         51\n",
       "release_date              2010-03-05 00:00:00\n",
       "movie                     Alice in Wonderland\n",
       "production_budget                   200000000\n",
       "domestic_gross                      334191110\n",
       "worldwide_gross                    1025491110\n",
       "release_year                             2010\n",
       "release_month                               3\n",
       "roi                                   512.746\n",
       "tconst                              tt1014759\n",
       "primary_title             Alice in Wonderland\n",
       "original_title            Alice in Wonderland\n",
       "start_year                               2010\n",
       "runtime_minutes                           108\n",
       "genres               Adventure,Family,Fantasy\n",
       "Name: 40, dtype: object"
      ]
     },
     "execution_count": 28,
     "metadata": {},
     "output_type": "execute_result"
    }
   ],
   "source": [
    "movies[movies['primary_title'] == 'Alice in Wonderland'].iloc[0]"
   ]
  },
  {
   "cell_type": "code",
   "execution_count": 29,
   "metadata": {
    "ExecuteTime": {
     "end_time": "2021-07-21T12:02:58.944333Z",
     "start_time": "2021-07-21T12:02:58.939883Z"
    }
   },
   "outputs": [
    {
     "data": {
      "text/plain": [
       "id                                    51\n",
       "release_date         2010-03-05 00:00:00\n",
       "movie                Alice in Wonderland\n",
       "production_budget              200000000\n",
       "domestic_gross                 334191110\n",
       "worldwide_gross               1025491110\n",
       "release_year                        2010\n",
       "release_month                          3\n",
       "roi                              512.746\n",
       "tconst                         tt2049386\n",
       "primary_title        Alice in Wonderland\n",
       "original_title       Alice in Wonderland\n",
       "start_year                          2010\n",
       "runtime_minutes                       99\n",
       "genres                   Fantasy,Musical\n",
       "Name: 42, dtype: object"
      ]
     },
     "execution_count": 29,
     "metadata": {},
     "output_type": "execute_result"
    }
   ],
   "source": [
    "movies[movies['primary_title'] == 'Alice in Wonderland'].iloc[1]"
   ]
  },
  {
   "cell_type": "markdown",
   "metadata": {
    "ExecuteTime": {
     "end_time": "2021-07-17T10:26:57.245135Z",
     "start_time": "2021-07-17T10:26:57.239108Z"
    }
   },
   "source": [
    "These all appear to indeed be different movies that happen to share a title. Because we do not know which movie is associated with the high ROI, I will drop these rows. "
   ]
  },
  {
   "cell_type": "code",
   "execution_count": 30,
   "metadata": {
    "ExecuteTime": {
     "end_time": "2021-07-21T12:02:58.949847Z",
     "start_time": "2021-07-21T12:02:58.945589Z"
    }
   },
   "outputs": [],
   "source": [
    "#Drop the rows with duplicated titles\n",
    "movies = movies[movies.duplicated('primary_title') == False].reset_index(drop = True)"
   ]
  },
  {
   "cell_type": "markdown",
   "metadata": {
    "ExecuteTime": {
     "end_time": "2021-07-17T10:30:43.952830Z",
     "start_time": "2021-07-17T10:30:43.939725Z"
    }
   },
   "source": [
    "I am only going to consider the ROI, release month and year, runtime and genres. The imdb id of tconst will be maintained in order to match with other imdb data, bu the id from the original budget table is no longer useful. Unneeded columns will be dropped."
   ]
  },
  {
   "cell_type": "code",
   "execution_count": 31,
   "metadata": {
    "ExecuteTime": {
     "end_time": "2021-07-21T12:02:58.954914Z",
     "start_time": "2021-07-21T12:02:58.951395Z"
    }
   },
   "outputs": [],
   "source": [
    "#Drop unneeded columns\n",
    "movies = movies.drop(labels = ['id','release_date','primary_title', 'original_title'], axis = 1)"
   ]
  },
  {
   "cell_type": "markdown",
   "metadata": {},
   "source": [
    "### Data Exploration"
   ]
  },
  {
   "cell_type": "markdown",
   "metadata": {},
   "source": [
    "In order to better understand which genres are the most profitable, two dictionaries will be built: one with genres and the number of movies released per year in that category and another that has the median ROI for each genre. The median will be used (opposed to the mean) because of the presence of outliers. \n",
    "\n",
    "In is important to note the most movies in the database list more than one genre. Since this is overlapping, movies will be counted more than once in the following genre calculations. "
   ]
  },
  {
   "cell_type": "code",
   "execution_count": 32,
   "metadata": {
    "ExecuteTime": {
     "end_time": "2021-07-21T12:02:59.058791Z",
     "start_time": "2021-07-21T12:02:58.956278Z"
    }
   },
   "outputs": [],
   "source": [
    "#Generate the lists of years and genres\n",
    "years = sorted(movies['release_year'].unique())\n",
    "\n",
    "genres = (\n",
    "        ['Action', 'Adventure','Fantasy','Sci-Fi', 'Thriller','Western',\n",
    "         'Animation', 'Comedy','Crime','War','Documentary','Musical',\n",
    "        'Family','Horror','Drama','Biography','Mystery','History','Sport',\n",
    "        'Romance']\n",
    ")\n",
    "\n",
    "#Create the empty dictionaries\n",
    "genre_counts = {}\n",
    "genre_roi = {}\n",
    "\n",
    "\n",
    "#Loop over each genre and create a df for that genre and find median ROI\n",
    "for genre in genres:\n",
    "    \n",
    "    count_list = []\n",
    "    genre_df = movies[movies['genres'].str.contains(genre)]\n",
    "    genre_roi[genre] = genre_df['roi'].median()\n",
    "\n",
    "    #Loop over each year and find the number of time the genre occured\n",
    "    for year in years:\n",
    "        \n",
    "        year_df = genre_df[genre_df['release_year'] == year]\n",
    "        count_list.append(year_df.shape[0])\n",
    "    \n",
    "    genre_counts[genre] = count_list\n"
   ]
  },
  {
   "cell_type": "code",
   "execution_count": 33,
   "metadata": {
    "ExecuteTime": {
     "end_time": "2021-07-21T12:02:59.066835Z",
     "start_time": "2021-07-21T12:02:59.060845Z"
    }
   },
   "outputs": [],
   "source": [
    "#create a dataframe from the genres and median ROI values\n",
    "genre_roi_df = pd.DataFrame(genre_roi.items())\n",
    "genre_roi_df.columns = ['genre','median_roi']\n",
    "genre_roi_df  = genre_roi_df.sort_values('median_roi', ascending = False)\n",
    "\n",
    "#create a list of the top five genres based on ROI\n",
    "top_genre_roi = list(genre_roi_df['genre'][:5])\n",
    "\n"
   ]
  },
  {
   "cell_type": "markdown",
   "metadata": {},
   "source": [
    "### Data Visualization"
   ]
  },
  {
   "cell_type": "code",
   "execution_count": 34,
   "metadata": {
    "ExecuteTime": {
     "end_time": "2021-07-21T12:02:59.298099Z",
     "start_time": "2021-07-21T12:02:59.068862Z"
    }
   },
   "outputs": [
    {
     "data": {
      "image/png": "[encoded data removed]",
      "text/plain": [
       "<Figure size 576x360 with 1 Axes>"
      ]
     },
     "metadata": {
      "needs_background": "light"
     },
     "output_type": "display_data"
    }
   ],
   "source": [
    "#plot the median ROI for each genre\n",
    "fig, ax = plt.subplots(figsize =(8,5))\n",
    "\n",
    "\n",
    "\n",
    "sns.barplot(data = genre_roi_df, x = 'genre', y = 'median_roi', color = '#5f7d95')\n",
    "ax.axhline(budget['roi'].median(), color='#eedcbe').set_linestyle('--')\n",
    "ax.set_xticklabels(labels=genre_roi_df['genre'], rotation=270)\n",
    "ax.set(title = 'Median ROI by Movie Genre',\n",
    "    xlabel='Genre',\n",
    "    ylabel='Median ROI. in percent')\n",
    "sns.despine(fig=fig,top=True, left=True)\n",
    "ax.text(14, 210, 'Median ROI');"
   ]
  },
  {
   "cell_type": "code",
   "execution_count": 35,
   "metadata": {
    "ExecuteTime": {
     "end_time": "2021-07-21T12:02:59.492574Z",
     "start_time": "2021-07-21T12:02:59.300229Z"
    },
    "scrolled": true
   },
   "outputs": [
    {
     "name": "stderr",
     "output_type": "stream",
     "text": [
      "<ipython-input-35-03017f1761e3>:11: UserWarning: FixedFormatter should only be used together with FixedLocator\n",
      "  ax.set_xticklabels(labels=genre_roi_df['genre'], rotation=270)\n"
     ]
    },
    {
     "data": {
      "image/png": "[encoded data removed]",
      "text/plain": [
       "<Figure size 576x360 with 1 Axes>"
      ]
     },
     "metadata": {
      "needs_background": "light"
     },
     "output_type": "display_data"
    }
   ],
   "source": [
    "genre_roi_df['change_from_baseline'] = (genre_roi_df['median_roi']-movies['roi'].median())/genre_roi_df['median_roi']\n",
    "genre_roi_df.reset_index()\n",
    "\n",
    "\n",
    "\n",
    "\n",
    "c = ['#5f7d95' if v <= 0 else '#00c3b1' for v in genre_roi_df['change_from_baseline']]\n",
    "fig,ax = plt.subplots(figsize=(8,5))\n",
    "ax.bar(x=genre_roi_df['genre'], height=genre_roi_df['change_from_baseline'], color=c)\n",
    "ax.axhline(0, color='#eedcbe')\n",
    "ax.set_xticklabels(labels=genre_roi_df['genre'], rotation=270)\n",
    "ax.set(title='Change in ROI From Baseline by Genre',\n",
    "      xlabel='Genres',\n",
    "      ylabel='Percent Change From Baseline')\n",
    "\n",
    "sns.despine(fig=fig,top=True, right=True);\n"
   ]
  },
  {
   "cell_type": "code",
   "execution_count": 36,
   "metadata": {
    "ExecuteTime": {
     "end_time": "2021-07-21T12:02:59.502173Z",
     "start_time": "2021-07-21T12:02:59.494249Z"
    }
   },
   "outputs": [
    {
     "data": {
      "text/html": [
       "<div>\n",
       "<style scoped>\n",
       "    .dataframe tbody tr th:only-of-type {\n",
       "        vertical-align: middle;\n",
       "    }\n",
       "\n",
       "    .dataframe tbody tr th {\n",
       "        vertical-align: top;\n",
       "    }\n",
       "\n",
       "    .dataframe thead th {\n",
       "        text-align: right;\n",
       "    }\n",
       "</style>\n",
       "<table border=\"1\" class=\"dataframe\">\n",
       "  <thead>\n",
       "    <tr style=\"text-align: right;\">\n",
       "      <th></th>\n",
       "      <th>genre</th>\n",
       "      <th>median_roi</th>\n",
       "      <th>change_from_baseline</th>\n",
       "    </tr>\n",
       "  </thead>\n",
       "  <tbody>\n",
       "    <tr>\n",
       "      <th>16</th>\n",
       "      <td>Mystery</td>\n",
       "      <td>374.327227</td>\n",
       "      <td>0.379908</td>\n",
       "    </tr>\n",
       "    <tr>\n",
       "      <th>13</th>\n",
       "      <td>Horror</td>\n",
       "      <td>318.562527</td>\n",
       "      <td>0.271360</td>\n",
       "    </tr>\n",
       "    <tr>\n",
       "      <th>6</th>\n",
       "      <td>Animation</td>\n",
       "      <td>299.854564</td>\n",
       "      <td>0.225901</td>\n",
       "    </tr>\n",
       "    <tr>\n",
       "      <th>3</th>\n",
       "      <td>Sci-Fi</td>\n",
       "      <td>277.831032</td>\n",
       "      <td>0.164538</td>\n",
       "    </tr>\n",
       "    <tr>\n",
       "      <th>1</th>\n",
       "      <td>Adventure</td>\n",
       "      <td>267.750157</td>\n",
       "      <td>0.133083</td>\n",
       "    </tr>\n",
       "    <tr>\n",
       "      <th>4</th>\n",
       "      <td>Thriller</td>\n",
       "      <td>254.116670</td>\n",
       "      <td>0.086572</td>\n",
       "    </tr>\n",
       "    <tr>\n",
       "      <th>7</th>\n",
       "      <td>Comedy</td>\n",
       "      <td>248.540313</td>\n",
       "      <td>0.066078</td>\n",
       "    </tr>\n",
       "    <tr>\n",
       "      <th>19</th>\n",
       "      <td>Romance</td>\n",
       "      <td>236.448873</td>\n",
       "      <td>0.018320</td>\n",
       "    </tr>\n",
       "    <tr>\n",
       "      <th>0</th>\n",
       "      <td>Action</td>\n",
       "      <td>223.577303</td>\n",
       "      <td>-0.038197</td>\n",
       "    </tr>\n",
       "    <tr>\n",
       "      <th>2</th>\n",
       "      <td>Fantasy</td>\n",
       "      <td>218.465204</td>\n",
       "      <td>-0.062491</td>\n",
       "    </tr>\n",
       "    <tr>\n",
       "      <th>12</th>\n",
       "      <td>Family</td>\n",
       "      <td>213.142587</td>\n",
       "      <td>-0.089023</td>\n",
       "    </tr>\n",
       "    <tr>\n",
       "      <th>14</th>\n",
       "      <td>Drama</td>\n",
       "      <td>197.374240</td>\n",
       "      <td>-0.176026</td>\n",
       "    </tr>\n",
       "    <tr>\n",
       "      <th>15</th>\n",
       "      <td>Biography</td>\n",
       "      <td>191.735751</td>\n",
       "      <td>-0.210610</td>\n",
       "    </tr>\n",
       "    <tr>\n",
       "      <th>17</th>\n",
       "      <td>History</td>\n",
       "      <td>186.938932</td>\n",
       "      <td>-0.241674</td>\n",
       "    </tr>\n",
       "    <tr>\n",
       "      <th>18</th>\n",
       "      <td>Sport</td>\n",
       "      <td>174.379186</td>\n",
       "      <td>-0.331106</td>\n",
       "    </tr>\n",
       "    <tr>\n",
       "      <th>8</th>\n",
       "      <td>Crime</td>\n",
       "      <td>170.936470</td>\n",
       "      <td>-0.357915</td>\n",
       "    </tr>\n",
       "    <tr>\n",
       "      <th>11</th>\n",
       "      <td>Musical</td>\n",
       "      <td>164.641227</td>\n",
       "      <td>-0.409837</td>\n",
       "    </tr>\n",
       "    <tr>\n",
       "      <th>10</th>\n",
       "      <td>Documentary</td>\n",
       "      <td>141.802634</td>\n",
       "      <td>-0.636904</td>\n",
       "    </tr>\n",
       "    <tr>\n",
       "      <th>5</th>\n",
       "      <td>Western</td>\n",
       "      <td>94.546224</td>\n",
       "      <td>-1.455066</td>\n",
       "    </tr>\n",
       "    <tr>\n",
       "      <th>9</th>\n",
       "      <td>War</td>\n",
       "      <td>83.552125</td>\n",
       "      <td>-1.778113</td>\n",
       "    </tr>\n",
       "  </tbody>\n",
       "</table>\n",
       "</div>"
      ],
      "text/plain": [
       "          genre  median_roi  change_from_baseline\n",
       "16      Mystery  374.327227              0.379908\n",
       "13       Horror  318.562527              0.271360\n",
       "6     Animation  299.854564              0.225901\n",
       "3        Sci-Fi  277.831032              0.164538\n",
       "1     Adventure  267.750157              0.133083\n",
       "4      Thriller  254.116670              0.086572\n",
       "7        Comedy  248.540313              0.066078\n",
       "19      Romance  236.448873              0.018320\n",
       "0        Action  223.577303             -0.038197\n",
       "2       Fantasy  218.465204             -0.062491\n",
       "12       Family  213.142587             -0.089023\n",
       "14        Drama  197.374240             -0.176026\n",
       "15    Biography  191.735751             -0.210610\n",
       "17      History  186.938932             -0.241674\n",
       "18        Sport  174.379186             -0.331106\n",
       "8         Crime  170.936470             -0.357915\n",
       "11      Musical  164.641227             -0.409837\n",
       "10  Documentary  141.802634             -0.636904\n",
       "5       Western   94.546224             -1.455066\n",
       "9           War   83.552125             -1.778113"
      ]
     },
     "execution_count": 36,
     "metadata": {},
     "output_type": "execute_result"
    }
   ],
   "source": [
    "genre_roi_df"
   ]
  },
  {
   "cell_type": "code",
   "execution_count": 37,
   "metadata": {
    "ExecuteTime": {
     "end_time": "2021-07-21T12:02:59.803146Z",
     "start_time": "2021-07-21T12:02:59.504194Z"
    }
   },
   "outputs": [
    {
     "data": {
      "image/png": "[encoded data removed]",
      "text/plain": [
       "<Figure size 576x360 with 1 Axes>"
      ]
     },
     "metadata": {
      "needs_background": "light"
     },
     "output_type": "display_data"
    }
   ],
   "source": [
    "p = {'Mystery':'#5f7d95','Horror':'#dd7e6b','Animation':'#000000','Sci-Fi':'#6aa84f','Adventure':'#674ea7'}\n",
    "\n",
    "#plot change in median ROI over time for top 5 genres\n",
    "fig,ax = plt.subplots(figsize =(8,5))\n",
    "legend = []\n",
    "for genre in top_genre_roi:\n",
    "    legend.append(genre)\n",
    "    df = movies[movies['genres'].str.contains(genre)]\n",
    "    genre_time = df.groupby('release_year')['roi'].median().reset_index()\n",
    "    sns.lineplot(data=genre_time, x='release_year', y='roi', color=p[genre])\n",
    "    \n",
    "sns.despine(fig=fig,top=True)\n",
    "ax.set(xlim = (2010,2018),\n",
    "      title = 'Trends in ROI for Top Five Genres',\n",
    "      xlabel='Release year',\n",
    "      ylabel='Median ROI')\n",
    "ax.legend(legend);"
   ]
  },
  {
   "cell_type": "code",
   "execution_count": 38,
   "metadata": {
    "ExecuteTime": {
     "end_time": "2021-07-21T12:03:00.027853Z",
     "start_time": "2021-07-21T12:02:59.805351Z"
    },
    "scrolled": false
   },
   "outputs": [
    {
     "data": {
      "image/png": "[encoded data removed]",
      "text/plain": [
       "<Figure size 576x360 with 1 Axes>"
      ]
     },
     "metadata": {
      "needs_background": "light"
     },
     "output_type": "display_data"
    }
   ],
   "source": [
    "fig,ax = plt.subplots(figsize =(8,5))\n",
    "sns.despine(fig=fig,top=True)\n",
    "legend = []\n",
    "for genre, counts in genre_counts.items():\n",
    "    if genre in top_genre_roi:\n",
    "        legend.append(genre)\n",
    "        y = counts\n",
    "        sns.lineplot(x = years[:-1], y = y[:-1], color=p[genre])\n",
    "ax.set(title = 'Movies Released Over Time by Genre',\n",
    "      xlabel='Release Year',\n",
    "      ylabel='Number of Movies Released')\n",
    "ax.legend(legend);\n",
    "\n",
    "        "
   ]
  },
  {
   "cell_type": "markdown",
   "metadata": {},
   "source": [
    "In the two graphs above, the data for 2019 was not plotted because it appeared to be incomplete, leading to erroneous conclusions. "
   ]
  },
  {
   "cell_type": "code",
   "execution_count": 39,
   "metadata": {
    "ExecuteTime": {
     "end_time": "2021-07-21T12:03:00.234415Z",
     "start_time": "2021-07-21T12:03:00.029869Z"
    }
   },
   "outputs": [
    {
     "name": "stderr",
     "output_type": "stream",
     "text": [
      "<ipython-input-39-4de616722ecd>:16: UserWarning: FixedFormatter should only be used together with FixedLocator\n",
      "  ax.set_xticklabels(labels = median_cost_per_genre_df['genre'], rotation=270)\n"
     ]
    },
    {
     "data": {
      "image/png": "[encoded data removed]",
      "text/plain": [
       "<Figure size 576x360 with 1 Axes>"
      ]
     },
     "metadata": {
      "needs_background": "light"
     },
     "output_type": "display_data"
    }
   ],
   "source": [
    "#In order to assist with genre recommendations, the median production budget per genre is calculated\n",
    "\n",
    "median_cost_per_genre = {}\n",
    "for genre in genres:\n",
    "    df = movies[movies['genres'].str.contains(genre)]\n",
    "    median_cost_per_genre[genre] = df['production_budget'].median()\n",
    "median_cost_per_genre_df = pd.DataFrame(median_cost_per_genre.items())\n",
    "median_cost_per_genre_df.columns = ['genre', 'median_cost']  \n",
    "median_cost_per_genre_df = median_cost_per_genre_df.sort_values('median_cost', ascending = False)\n",
    "    \n",
    "\n",
    "co = ['#00c3b1' if v in ['Adventure','Mystery','Horror','Animation','Sci-Fi'] else '#5f7d95' for v in median_cost_per_genre_df['genre']]  \n",
    "fig,ax = plt.subplots(figsize=(8,5))\n",
    "sns.despine(fig=fig,top=True, left=True)\n",
    "ax.bar(median_cost_per_genre_df['genre'], height=median_cost_per_genre_df['median_cost'], color=co)\n",
    "ax.set_xticklabels(labels = median_cost_per_genre_df['genre'], rotation=270)\n",
    "ax.axhline(movies['production_budget'].median(), color='#eedcbe').set_linestyle('--')\n",
    "ax.set(\n",
    "    title='Median Production Budget by Genre',\n",
    "    xlabel='Genre',\n",
    "    ylabel='Median production budget, in 100 millions')\n",
    "ax.text(12,27700000,'Median production budget');"
   ]
  },
  {
   "cell_type": "markdown",
   "metadata": {},
   "source": [
    "Adventure movies are by far the most popular, with about double the number released each year compared to the other top genres. This genre has a consistent ROI of around 250%, which is about average. However, they are also the most expensive to produce, which introduces an element of risk. \n",
    "\n",
    "Mystery has a 38% improvement on ROI, but popularity trends suggest that it may be losing interest for viewers.\n",
    "\n",
    "Horror and science fiction have a high ROI (27% and 16% improvements, respectively) and seem to be increasing in both popularity and profitability. Science fiction is expensive to create, while horror has extremely low production costs. \n",
    "\n",
    "Animation is a consistent performer (about 23% improvement on baseline ROI), but is also expensive to produce."
   ]
  },
  {
   "cell_type": "markdown",
   "metadata": {},
   "source": [
    "### Recommendation - Focus production on movies that fall into the adventure, horror and science fiction genres. When wanting to limit production budget, produce horror movies. "
   ]
  },
  {
   "cell_type": "markdown",
   "metadata": {},
   "source": [
    "## What runtimes are associated with a higher ROI?"
   ]
  },
  {
   "cell_type": "markdown",
   "metadata": {},
   "source": [
    "### Data Visualization"
   ]
  },
  {
   "cell_type": "code",
   "execution_count": 40,
   "metadata": {
    "ExecuteTime": {
     "end_time": "2021-07-21T12:03:00.376341Z",
     "start_time": "2021-07-21T12:03:00.236785Z"
    }
   },
   "outputs": [
    {
     "data": {
      "image/png": "[encoded data removed]",
      "text/plain": [
       "<Figure size 576x360 with 1 Axes>"
      ]
     },
     "metadata": {
      "needs_background": "light"
     },
     "output_type": "display_data"
    }
   ],
   "source": [
    "#add a boolean column 'top_roi' to indicate if a movie is in the top 20% for ROI\n",
    "split = movies['roi'].quantile(q=0.8)\n",
    "\n",
    "movies['top_roi'] = movies['roi'] >= split\n",
    "\n",
    "#plot the runtimes for movies in the top 20% and bottom 80%\n",
    "top = movies[movies['roi'] >= split]\n",
    "bottom = movies[movies['roi'] < split]\n",
    "\n",
    "fig,ax = plt.subplots(figsize=(8,5))\n",
    "ax.hist(\n",
    "    x=top['runtime_minutes'], \n",
    "    density=True, \n",
    "    color='#02c8b5', \n",
    "    histtype='step'\n",
    ")\n",
    "ax.hist(\n",
    "    x=bottom['runtime_minutes'], \n",
    "    density=True, \n",
    "    color='#92967d', \n",
    "    histtype='step'\n",
    ")\n",
    "ax.legend(['top 20%','bottom 80%'])\n",
    "ax.set(\n",
    "    title='Movie Runtimes by ROI',\n",
    "    xlabel='Runtime in Minutes',\n",
    "    ylabel='Frequency')\n",
    "ax.spines['right'].set_visible(False)\n",
    "ax.spines['top'].set_visible(False);\n",
    "\n"
   ]
  },
  {
   "cell_type": "code",
   "execution_count": 41,
   "metadata": {
    "ExecuteTime": {
     "end_time": "2021-07-21T12:03:00.532998Z",
     "start_time": "2021-07-21T12:03:00.378519Z"
    },
    "scrolled": false
   },
   "outputs": [
    {
     "data": {
      "image/png": "[encoded data removed]",
      "text/plain": [
       "<Figure size 360x360 with 1 Axes>"
      ]
     },
     "metadata": {
      "needs_background": "light"
     },
     "output_type": "display_data"
    }
   ],
   "source": [
    "#filter movies to only top 20% of ROI while removing outliers in ROI\n",
    "filtered_movies = movies[(movies['top_roi'] == True) & (movies['roi'] <= 2000)]\n",
    "\n",
    "#plot runtimes and ROI\n",
    "sns.displot(\n",
    "    data=filtered_movies , \n",
    "    x=\"runtime_minutes\", \n",
    "    y=\"roi\", \n",
    "    color='#5f7d95'\n",
    ");"
   ]
  },
  {
   "cell_type": "markdown",
   "metadata": {},
   "source": [
    "Regardless of ROI, movies generally run between 80 and 120 minutes. When only looking at the top 20% of movies in terms of ROI, the shorter movies (110 minutes and under) appear to have a slight association with a higher ROI, although some of this is due to outliers in the data. The worst performing movies in terms of ROI are between 140 and 150 minutes. Overall, there is not enough of a difference between the top-performing movies and the lower-performing movies to make a recommendation for runtimes in terms of increase in ROI."
   ]
  },
  {
   "cell_type": "markdown",
   "metadata": {},
   "source": [
    "## How does the timing of the movie release correlate with ROI?"
   ]
  },
  {
   "cell_type": "markdown",
   "metadata": {},
   "source": [
    "### Data Exploration"
   ]
  },
  {
   "cell_type": "code",
   "execution_count": 42,
   "metadata": {
    "ExecuteTime": {
     "end_time": "2021-07-21T12:03:00.539374Z",
     "start_time": "2021-07-21T12:03:00.534983Z"
    }
   },
   "outputs": [],
   "source": [
    "#create column to show season of release\n",
    "\n",
    "def season(month):\n",
    "    if month in [6,7,8]:\n",
    "        return 'summer' \n",
    "    elif month in [9,10,11]:\n",
    "        return 'fall' \n",
    "    elif month in [12,1,2]:\n",
    "        return 'winter'\n",
    "    else:\n",
    "        return 'spring'\n",
    "    \n",
    "movies['season'] = movies['release_month'].apply(season)\n",
    "\n",
    "      "
   ]
  },
  {
   "cell_type": "code",
   "execution_count": 43,
   "metadata": {
    "ExecuteTime": {
     "end_time": "2021-07-21T12:03:00.545833Z",
     "start_time": "2021-07-21T12:03:00.541390Z"
    }
   },
   "outputs": [],
   "source": [
    "#caluclate the mean ROI for each season\n",
    "roi_season = movies.groupby('season')['roi'].mean().reset_index()\n",
    "roi_season = roi_season.sort_values('roi')"
   ]
  },
  {
   "cell_type": "markdown",
   "metadata": {},
   "source": [
    "### Data Visualization"
   ]
  },
  {
   "cell_type": "code",
   "execution_count": 44,
   "metadata": {
    "ExecuteTime": {
     "end_time": "2021-07-21T12:03:00.644382Z",
     "start_time": "2021-07-21T12:03:00.547063Z"
    }
   },
   "outputs": [
    {
     "data": {
      "image/png": "[encoded data removed]",
      "text/plain": [
       "<Figure size 576x360 with 1 Axes>"
      ]
     },
     "metadata": {
      "needs_background": "light"
     },
     "output_type": "display_data"
    }
   ],
   "source": [
    "#plot the mean ROI for each season\n",
    "fig,ax = plt.subplots(figsize=(8,5))\n",
    "sns.barplot(data = roi_season, x='season', y='roi', color='#5f7d95')\n",
    "ax.set(\n",
    "    title='Mean ROI by Season of Release',\n",
    "    xlabel='Season',\n",
    "    ylabel='ROI, in percent'\n",
    "    )\n",
    "sns.despine(top=True, right=True);"
   ]
  },
  {
   "cell_type": "markdown",
   "metadata": {
    "ExecuteTime": {
     "end_time": "2021-07-19T13:16:39.680108Z",
     "start_time": "2021-07-19T13:16:39.495470Z"
    }
   },
   "source": [
    "The movies with the highest ROI are released in in the summer, with the three other seasons being approximately equal, giving credence to the idea of a \"summer blockbuster.\" Next, I will check if the ROI by season of release varies by genre for the movies in the top 20% of ROI."
   ]
  },
  {
   "cell_type": "code",
   "execution_count": null,
   "metadata": {
    "ExecuteTime": {
     "start_time": "2021-07-21T12:02:55.572Z"
    }
   },
   "outputs": [],
   "source": [
    "#select only the movies in the top 20% of ROI\n",
    "top_titles = movies[movies['top_roi'] == True]\n",
    "\n",
    "#plot each genre\n",
    "fig, axes = plt.subplots(nrows=5, ncols=4, figsize=(12,8), sharey=True)\n",
    "plt.subplots_adjust(top=2, hspace=1)\n",
    "sns.despine(top=True, right=True, left=True)\n",
    "\n",
    "for n, ax in enumerate(axes.flatten()):\n",
    "    genre = genres[n]\n",
    "    df = top_titles[top_titles['genres'].str.contains(genre)]\n",
    "    by_season = df.groupby('season')['roi'].median().reset_index()\n",
    "    by_season = by_season.sort_values('season')\n",
    "    ax.bar(x=by_season['season'], height=by_season['roi'], color='#5f7d95')\n",
    "    ax.set_title(genre)\n",
    "    ax.set(ylabel='ROI, in percent')\n",
    "    ax.set_xticklabels(by_season['season'], rotation=30, ha='right');\n"
   ]
  },
  {
   "cell_type": "markdown",
   "metadata": {
    "ExecuteTime": {
     "end_time": "2021-07-18T16:55:14.172560Z",
     "start_time": "2021-07-18T16:55:14.064790Z"
    }
   },
   "source": [
    "Overall, summer releases have the highest ROI. However, Horror has the highest ROI in the fall, thrillers and biography do best in the winter. Fantasy peaks in the summer and winter. Action, adventure and comedy are generally consistent throughout the year. "
   ]
  },
  {
   "cell_type": "markdown",
   "metadata": {},
   "source": [
    "### Recommendation - Focus on summer releases, especially for big-budget movies, such as those in the adventure genre. Plan to release horror films in the fall and science fiction in the winter, when they have the highest ROI."
   ]
  },
  {
   "cell_type": "markdown",
   "metadata": {},
   "source": [
    "## Which producers and directors are associated with movies with a high ROI?"
   ]
  },
  {
   "cell_type": "markdown",
   "metadata": {},
   "source": [
    "We all know that the \"big name\" actors tend to draw a crowd, but they also draw a big paycheck. I am going to look instead at the directors and producers that have been linked to highly profitable movies. \n",
    "\n",
    "This will require merging 3 dataframes: one with information linking crew ids to movie ids, one that connects the crew ids to names and then the existing top_titles dataframe, which contains informaiton about the movies in the top 20% for ROI. "
   ]
  },
  {
   "cell_type": "markdown",
   "metadata": {},
   "source": [
    "### Data Mining"
   ]
  },
  {
   "cell_type": "code",
   "execution_count": null,
   "metadata": {
    "ExecuteTime": {
     "start_time": "2021-07-21T12:02:55.577Z"
    }
   },
   "outputs": [],
   "source": [
    "#load the csv with information about crew\n",
    "principals = pd.read_csv('Data/imdb.title.principals.csv')\n",
    "\n",
    "#create two dataframes to separate out only the directors and producers\n",
    "directors = principals.loc[principals['category'] == 'director']\n",
    "producers = principals.loc[principals['category'] == 'producer']\n"
   ]
  },
  {
   "cell_type": "code",
   "execution_count": null,
   "metadata": {
    "ExecuteTime": {
     "start_time": "2021-07-21T12:02:55.579Z"
    }
   },
   "outputs": [],
   "source": [
    "#load the csv with the names of the crew\n",
    "names = pd.read_csv('Data/imdb.name.basics.csv')"
   ]
  },
  {
   "cell_type": "markdown",
   "metadata": {},
   "source": [
    "### Data Cleaning"
   ]
  },
  {
   "cell_type": "code",
   "execution_count": null,
   "metadata": {
    "ExecuteTime": {
     "start_time": "2021-07-21T12:02:55.582Z"
    }
   },
   "outputs": [],
   "source": [
    "#create a function to merge the dataframes\n",
    "def top_names(df, top_titles):\n",
    "    name = df['category'].iloc[0]\n",
    "    df = df.merge(names, how = 'inner', left_on = 'nconst', right_on = 'nconst')\n",
    "    df = df[['tconst', 'primary_name', 'nconst']]\n",
    "    top_titles = top_titles.merge(df, how = 'inner', left_on = 'tconst', right_on = 'tconst')\n",
    "    top_titles = top_titles.rename(columns = {'primary_name': name})\n",
    "    return top_titles\n"
   ]
  },
  {
   "cell_type": "code",
   "execution_count": null,
   "metadata": {
    "ExecuteTime": {
     "start_time": "2021-07-21T12:02:55.584Z"
    }
   },
   "outputs": [],
   "source": [
    "#merge the dataframes and drop extra columns\n",
    "top_titles = top_names(directors, top_titles)\n",
    "top_titles = top_names(producers, top_titles)\n",
    "top_titles = top_titles.drop(columns = ['nconst_x', 'nconst_y'])"
   ]
  },
  {
   "cell_type": "markdown",
   "metadata": {},
   "source": [
    "### Data Exploration"
   ]
  },
  {
   "cell_type": "code",
   "execution_count": null,
   "metadata": {
    "ExecuteTime": {
     "start_time": "2021-07-21T12:02:55.588Z"
    }
   },
   "outputs": [],
   "source": [
    "#calculate the mean ROI for each director\n",
    "roi_director = top_titles.groupby('director')['roi'].mean().reset_index()\n",
    "roi_director = roi_director.sort_values('roi', ascending = False).reset_index()\n"
   ]
  },
  {
   "cell_type": "markdown",
   "metadata": {},
   "source": [
    "Because top directors can also influence people to watch a movie, I will find the total number of movies each director has worked on.  "
   ]
  },
  {
   "cell_type": "code",
   "execution_count": null,
   "metadata": {
    "ExecuteTime": {
     "start_time": "2021-07-21T12:02:55.591Z"
    }
   },
   "outputs": [],
   "source": [
    "#calculate the total number of movies made by each director\n",
    "top_director = top_titles.groupby('director')['tconst'].count().reset_index()\n",
    "top_director = top_director.sort_values('tconst', ascending = False).reset_index(drop = True)"
   ]
  },
  {
   "cell_type": "markdown",
   "metadata": {},
   "source": [
    "### Data Visualization"
   ]
  },
  {
   "cell_type": "code",
   "execution_count": null,
   "metadata": {
    "ExecuteTime": {
     "start_time": "2021-07-21T12:02:55.594Z"
    }
   },
   "outputs": [],
   "source": [
    "#plot the top 20 directors by ROI\n",
    "names = roi_director['director'][:20]\n",
    "colors = ['#02c8b5' if name in ['Jordan Peele','William Brent Bell'] else '#5f7d95' for name in names]\n",
    "\n",
    "fig,ax = plt.subplots(figsize=(12,5))\n",
    "sns.barplot(data = roi_director[:20], x = names, y = 'roi', palette=colors)\n",
    "ax.set_xticklabels(labels=names, rotation=270)\n",
    "ax.set(\n",
    "    title='The 20 Most Profitable Directors',\n",
    "    xlabel='Directors',\n",
    "    ylabel='ROI, in percent')\n",
    "sns.despine(top=True, right=True);"
   ]
  },
  {
   "cell_type": "code",
   "execution_count": null,
   "metadata": {
    "ExecuteTime": {
     "start_time": "2021-07-21T12:02:55.596Z"
    },
    "scrolled": false
   },
   "outputs": [],
   "source": [
    "#plot the top 20 directors by number of movies\n",
    "names2 = top_director['director'][:20]\n",
    "colors = ['#02c8b5' if name in ['Jordan Peele','William Brent Bell'] else '#5f7d95' for name in names2]\n",
    "\n",
    "\n",
    "fig,ax = plt.subplots(figsize=(12,5))\n",
    "sns.barplot(data=top_director[:20], x = names2, y = 'tconst', palette=colors)\n",
    "ax.set_xticklabels(labels=names2, rotation=270)\n",
    "ax.set(\n",
    "    title='Top 20 Most Prolific Directors',\n",
    "    xlabel='Directors',\n",
    "    ylabel='Number of Movies Directed')\n",
    "sns.despine(top=True, right=True);"
   ]
  },
  {
   "cell_type": "markdown",
   "metadata": {},
   "source": [
    "The two directors with the extremely high ROI both worked on The Gallows, a very low-budget horror movie that happened to do extremely well at the box office. This type of return cannot be expected again.\n",
    "\n",
    "Jordan Peele and William Brent Bell are both prolific and profitable, making them wise choices for movie production.\n",
    "\n",
    "Unlike with actors or directors, people don't tend to watch a movie based on its producer. However, the producer can a have a large role in helping to keep a movie within budget. Next, I will look for the most profitable producers. "
   ]
  },
  {
   "cell_type": "code",
   "execution_count": null,
   "metadata": {
    "ExecuteTime": {
     "start_time": "2021-07-21T12:02:55.599Z"
    }
   },
   "outputs": [],
   "source": [
    "#calcuate the mean ROI by producers\n",
    "roi_producer = top_titles.groupby('producer')['roi'].mean().reset_index()\n",
    "roi_producer = roi_producer.sort_values('roi', ascending = False)"
   ]
  },
  {
   "cell_type": "code",
   "execution_count": null,
   "metadata": {
    "ExecuteTime": {
     "start_time": "2021-07-21T12:02:55.601Z"
    },
    "scrolled": true
   },
   "outputs": [],
   "source": [
    "#plot the mean roi for the top 20 producers\n",
    "fig,ax = plt.subplots(figsize=(12,5))\n",
    "sns.barplot(data=roi_producer[:20], x='producer', y='roi', color='#5f7d95')\n",
    "ax.set_xticklabels(labels=roi_producer['producer'][:20], rotation=270)\n",
    "ax.set(\n",
    "    title='The 20 Most Profitable Producers',\n",
    "    xlabel='Producers',\n",
    "    ylabel='Mean ROI, im percent')\n",
    "sns.despine(right=True, top=True);"
   ]
  },
  {
   "cell_type": "markdown",
   "metadata": {},
   "source": [
    "There are three standouts here: Dean Schnider, Guymon Casady and Benjamin Forkner."
   ]
  },
  {
   "cell_type": "markdown",
   "metadata": {},
   "source": [
    "### Recommendation - Create opportunities to hire Jordan Peele or William Brent Bell as directors and Dean Schnider, Guymon Casady or Benjamin Forkner as producers. "
   ]
  },
  {
   "cell_type": "markdown",
   "metadata": {},
   "source": [
    "## How do movie franchises impact gross revenue?"
   ]
  },
  {
   "cell_type": "markdown",
   "metadata": {},
   "source": [
    "By observation, it is clear that the many of the movies with the highest gross revenue are part of a franchise. Next, I'm going to look at the association between franchise membership and gross revenue. Because none of the provided datasets contain information about franchises, I will use a Wikipedia page to obtain a list of movies titles that are a part of a franchise. Then, I will use that data to create a Boolean column in the top_titles dataframe to indicate if each movie is part of a franchise. "
   ]
  },
  {
   "cell_type": "markdown",
   "metadata": {},
   "source": [
    "### Data Mining"
   ]
  },
  {
   "cell_type": "code",
   "execution_count": null,
   "metadata": {
    "ExecuteTime": {
     "start_time": "2021-07-21T12:02:55.606Z"
    }
   },
   "outputs": [],
   "source": [
    "#load the table from Wikipedia\n",
    "wiki = pd.read_html('https://en.wikipedia.org/wiki/List_of_highest-grossing_films#Highest-grossing_franchises_and_film_series')\n",
    "franchises = wiki[4].iloc[8:]\n",
    "franchises = franchises[1].reset_index(drop=True)"
   ]
  },
  {
   "cell_type": "markdown",
   "metadata": {},
   "source": [
    "### Data Cleaning"
   ]
  },
  {
   "cell_type": "code",
   "execution_count": null,
   "metadata": {
    "ExecuteTime": {
     "start_time": "2021-07-21T12:02:55.609Z"
    }
   },
   "outputs": [],
   "source": [
    "#create a function to get only the names from the table\n",
    "def clean_title(title):\n",
    "    if '(' not in title:\n",
    "        return None\n",
    "    elif '$' in title:\n",
    "        return None\n",
    "    else:\n",
    "        return title.split(' (')[0]"
   ]
  },
  {
   "cell_type": "code",
   "execution_count": null,
   "metadata": {
    "ExecuteTime": {
     "start_time": "2021-07-21T12:02:55.612Z"
    }
   },
   "outputs": [],
   "source": [
    "#apply the function\n",
    "franchises = franchises.apply(clean_title)"
   ]
  },
  {
   "cell_type": "code",
   "execution_count": null,
   "metadata": {
    "ExecuteTime": {
     "start_time": "2021-07-21T12:02:55.614Z"
    }
   },
   "outputs": [],
   "source": [
    "#create a list of franchises and update the list with some missing titles\n",
    "franchise_list = franchises.to_list()\n",
    "franchise_list = [n for n in franchise_list if n != None]\n",
    "franchise_list.extend(['Paranormal Activity 3', 'The Hunger Games: Mockingjay - Part 1',\n",
    "                       'The Hunger Games: Catching Fire','Annabelle', 'Furious',\n",
    "                       'Transformers: Dark of the Moon', 'Transformers: Age of Extinction', \n",
    "                       'Jurassic World: Fallen Kingdom', 'Incredibles 2', 'Rise of the Planet of the Apes',\n",
    "                       'Ice Age: Continental Drift', 'The Hangover Part II', 'The Twilight Saga: Eclipse',\n",
    "                       'Hotel Transylvania 3: Summer Vacation', 'Hotel Transylvania 2', 'Fifty Shades Darker',\n",
    "                       'Fifty Shades Freed', 'Fifty Shades of Grey','Resident Evil: Afterlife'])"
   ]
  },
  {
   "cell_type": "code",
   "execution_count": null,
   "metadata": {
    "ExecuteTime": {
     "start_time": "2021-07-21T12:02:55.617Z"
    }
   },
   "outputs": [],
   "source": [
    "#create a function to determine if a movie is a franchise\n",
    "def is_franchise(movie):\n",
    "    return movie in franchise_list"
   ]
  },
  {
   "cell_type": "code",
   "execution_count": null,
   "metadata": {
    "ExecuteTime": {
     "start_time": "2021-07-21T12:02:55.619Z"
    },
    "scrolled": true
   },
   "outputs": [],
   "source": [
    "#apply the function on the top_titles dataframe\n",
    "top_titles['franchise'] = top_titles['movie'].apply(is_franchise)"
   ]
  },
  {
   "cell_type": "markdown",
   "metadata": {},
   "source": [
    "### Data Visualization"
   ]
  },
  {
   "cell_type": "code",
   "execution_count": null,
   "metadata": {
    "ExecuteTime": {
     "start_time": "2021-07-21T12:02:55.622Z"
    }
   },
   "outputs": [],
   "source": [
    "fig = px.scatter(top_titles, \n",
    "                 x=\"production_budget\", \n",
    "                 y=\"worldwide_gross\", \n",
    "                 color='franchise',\n",
    "                 hover_name=\"movie\", \n",
    "                 hover_data=[\"roi\"],\n",
    "                 title='Do Franchises Make More Money?',\n",
    "                 color_discrete_sequence=['#02c8b5','#5f7d95'])\n",
    "                \n",
    "               \n",
    "fig.update_layout(plot_bgcolor='rgba(0,0,0,0)')\n",
    "\n",
    "\n"
   ]
  },
  {
   "cell_type": "markdown",
   "metadata": {},
   "source": [
    "### Recommendation - Look for opportunities for movie franchises, especially for big-budget productions."
   ]
  },
  {
   "cell_type": "markdown",
   "metadata": {},
   "source": [
    "## What world markets watch the most American-made movies?"
   ]
  },
  {
   "cell_type": "markdown",
   "metadata": {},
   "source": [
    "One of the ways that a movie can make more profit is by exporting it to other markets with slight modifications. I am going to examine the top markets for American-made movies for films in the top 20% of ROI."
   ]
  },
  {
   "cell_type": "markdown",
   "metadata": {},
   "source": [
    "### Data Mining"
   ]
  },
  {
   "cell_type": "code",
   "execution_count": null,
   "metadata": {
    "ExecuteTime": {
     "start_time": "2021-07-21T12:02:55.627Z"
    }
   },
   "outputs": [],
   "source": [
    "#load the dataset\n",
    "regions = pd.read_csv('Data/imdb.title.akas.csv')"
   ]
  },
  {
   "cell_type": "markdown",
   "metadata": {},
   "source": [
    "### Data Cleaning"
   ]
  },
  {
   "cell_type": "code",
   "execution_count": null,
   "metadata": {
    "ExecuteTime": {
     "start_time": "2021-07-21T12:02:55.630Z"
    }
   },
   "outputs": [],
   "source": [
    "#Get the count of movie titles by region\n",
    "\n",
    "top_ids = list(top_titles['tconst'])\n",
    "\n",
    "def is_top_region(id_):\n",
    "    return id_ in top_ids\n",
    "\n",
    "top_regions = regions[regions['title_id'].apply(is_top_region)]\n",
    "num_by_region = top_regions.groupby('region')['title_id'].count().reset_index()\n",
    "num_by_region = num_by_region.sort_values('title_id', ascending = False)\n",
    "num_by_region = num_by_region.rename(columns = {'title_id':'count'})"
   ]
  },
  {
   "cell_type": "markdown",
   "metadata": {},
   "source": [
    "This file uses ISO-2 coding for the countries. This will need to be updated to ISO-3 in order to make a choropleth graph. I found a website with a table with both code formats. I will use this to make a mapping dictionary. "
   ]
  },
  {
   "cell_type": "code",
   "execution_count": null,
   "metadata": {
    "ExecuteTime": {
     "start_time": "2021-07-21T12:02:55.632Z"
    }
   },
   "outputs": [],
   "source": [
    "#create a mapping dictonary to update codes\n",
    "codes = pd.read_csv('Data/countries-codes.csv', sep = ';')\n",
    "iso_3 = codes.loc[:,['ISO2 CODE', 'ISO3 CODE']]\n",
    "iso_3 = iso_3.set_index('ISO2 CODE')['ISO3 CODE'].to_dict()"
   ]
  },
  {
   "cell_type": "code",
   "execution_count": null,
   "metadata": {
    "ExecuteTime": {
     "start_time": "2021-07-21T12:02:55.635Z"
    }
   },
   "outputs": [],
   "source": [
    "#apply the dictionary\n",
    "num_by_region['region'] = num_by_region['region'].replace(iso_3)"
   ]
  },
  {
   "cell_type": "markdown",
   "metadata": {},
   "source": [
    "### Data Visualization"
   ]
  },
  {
   "cell_type": "code",
   "execution_count": null,
   "metadata": {
    "ExecuteTime": {
     "start_time": "2021-07-21T12:02:55.638Z"
    },
    "scrolled": false
   },
   "outputs": [],
   "source": [
    "#map the number of American-made movies exported by region\n",
    "px.choropleth(data_frame=num_by_region, \n",
    "              locations='region', \n",
    "              color='count',\n",
    "              color_continuous_scale='Teal',\n",
    "              title='Top Markets for American-Made Movies')"
   ]
  },
  {
   "cell_type": "markdown",
   "metadata": {},
   "source": [
    "### Recommendation - Customize high-performing movies for the following global markets: Brazil, Russia, Germany and Spain."
   ]
  },
  {
   "cell_type": "markdown",
   "metadata": {},
   "source": [
    "# Conclusions\n",
    "## Recommendations\n",
    "\n",
    "- Focus production on movies that fall into the adventure, horror and science fiction genres because those are both popular and profitable. When wanting to limit production budget, produce horror movies, since they have some of the lowest budgets with a high rate of return.\n",
    "\n",
    "- Focus on summer releases, especially for big-budget movies, as summer films have the highest rate of return. Plan to release horror films in the fall and science fiction in the winter, as the ROI for those genres peak at those times.\n",
    "\n",
    "- Create opportunities to hire Jordan Peele or William Brent Bell as directors, since they are both prolific and have a track record of creating profitable movies. Likewise, consider hiring  Dean Schnider, Guymon Casady or Benjamin Forkner as producers, since they have created highly-profitable movies in the past.\n",
    "\n",
    "- Look for opportunities for movie franchises, especially for big-budget productions, because movies that are part of a franchise are generally more profitable than stand-alone movies. This is especially true for movies with high production budgets.\n",
    "\n",
    "- Customize high-performing movies for the following global markets: Brazil, Russia, Germany and Spain because they consume the most American-made movies and can help increase global sales. "
   ]
  },
  {
   "cell_type": "markdown",
   "metadata": {},
   "source": [
    "# Future Work\n",
    "- Streaming has become increasing popular and has dramatically altered the movie environment. Further research into streaming markets to determine what movies are most profitable in that domain would be highly beneficial. \n",
    "\n",
    "- Examine data from 2020-2021 to see the impact that Covid had on movie trends, as some of these may have a lasting impact on the market.\n",
    "\n",
    "- Obtain more thorough data on the expenses in movie production in order to calculate more accurate ROI statistics. "
   ]
  }
 ],
 "metadata": {
  "kernelspec": {
   "display_name": "Python 3",
   "language": "python",
   "name": "python3"
  },
  "language_info": {
   "codemirror_mode": {
    "name": "ipython",
    "version": 3
   },
   "file_extension": ".py",
   "mimetype": "text/x-python",
   "name": "python",
   "nbconvert_exporter": "python",
   "pygments_lexer": "ipython3",
   "version": "3.8.5"
  },
  "toc": {
   "base_numbering": 1,
   "nav_menu": {},
   "number_sections": true,
   "sideBar": true,
   "skip_h1_title": false,
   "title_cell": "Table of Contents",
   "title_sidebar": "Contents",
   "toc_cell": false,
   "toc_position": {
    "height": "calc(100% - 180px)",
    "left": "10px",
    "top": "150px",
    "width": "304.475px"
   },
   "toc_section_display": true,
   "toc_window_display": true
  }
 },
 "nbformat": 4,
 "nbformat_minor": 2
}
